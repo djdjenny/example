{
  "cells": [
    {
      "cell_type": "markdown",
      "metadata": {
        "id": "UkiS8l2Bs8tR"
      },
      "source": [
        "# Исследование объявлений о продаже квартир\n",
        "\n",
        "В вашем распоряжении данные сервиса Яндекс.Недвижимость — архив объявлений о продаже квартир в Санкт-Петербурге и соседних населённых пунктов за несколько лет. Нужно научиться определять рыночную стоимость объектов недвижимости. Ваша задача — установить параметры. Это позволит построить автоматизированную систему: она отследит аномалии и мошенническую деятельность. \n",
        "\n",
        "По каждой квартире на продажу доступны два вида данных. Первые вписаны пользователем, вторые — получены автоматически на основе картографических данных. Например, расстояние до центра, аэропорта, ближайшего парка и водоёма. "
      ]
    },
    {
      "cell_type": "markdown",
      "metadata": {
        "id": "afOApSsys8tz"
      },
      "source": [
        "### Откройте файл с данными и изучите общую информацию. "
      ]
    },
    {
      "cell_type": "markdown",
      "metadata": {
        "id": "egNgP6hZu60_"
      },
      "source": [
        "Сначала загрузим необходимые библиотеки."
      ]
    },
    {
      "cell_type": "code",
      "execution_count": null,
      "metadata": {
        "id": "YkUhffJPtXBU",
        "trusted": true
      },
      "outputs": [],
      "source": [
        "import pandas as pd\n",
        "import numpy as np\n",
        "import matplotlib.pyplot as plt\n",
        "import seaborn as sns\n",
        "import statistics\n",
        "from scipy.stats.stats import pearsonr\n",
        "from scipy.stats import f_oneway"
      ]
    },
    {
      "cell_type": "code",
      "execution_count": null,
      "metadata": {
        "id": "GPgiB7O9s8t2",
        "trusted": true
      },
      "outputs": [],
      "source": [
        "df = pd.read_csv('/datasets/real_estate_data.csv', sep='\\t')"
      ]
    },
    {
      "cell_type": "markdown",
      "metadata": {
        "id": "Exo-ivbru_kp"
      },
      "source": [
        "Ознакомимся с предоставленными данными - какие данные представлены и каковы их типы."
      ]
    },
    {
      "cell_type": "code",
      "execution_count": null,
      "metadata": {
        "colab": {
          "base_uri": "https://localhost:8080/"
        },
        "id": "N_TL_g_KuSUb",
        "outputId": "e74d97bf-fd54-431d-8adf-e82deb359be0",
        "trusted": true
      },
      "outputs": [
        {
          "output_type": "stream",
          "name": "stdout",
          "text": [
            "<class 'pandas.core.frame.DataFrame'>\n",
            "RangeIndex: 23699 entries, 0 to 23698\n",
            "Data columns (total 22 columns):\n",
            " #   Column                Non-Null Count  Dtype  \n",
            "---  ------                --------------  -----  \n",
            " 0   total_images          23699 non-null  int64  \n",
            " 1   last_price            23699 non-null  float64\n",
            " 2   total_area            23699 non-null  float64\n",
            " 3   first_day_exposition  23699 non-null  object \n",
            " 4   rooms                 23699 non-null  int64  \n",
            " 5   ceiling_height        14504 non-null  float64\n",
            " 6   floors_total          23613 non-null  float64\n",
            " 7   living_area           21796 non-null  float64\n",
            " 8   floor                 23699 non-null  int64  \n",
            " 9   is_apartment          2775 non-null   object \n",
            " 10  studio                23699 non-null  bool   \n",
            " 11  open_plan             23699 non-null  bool   \n",
            " 12  kitchen_area          21421 non-null  float64\n",
            " 13  balcony               12180 non-null  float64\n",
            " 14  locality_name         23650 non-null  object \n",
            " 15  airports_nearest      18157 non-null  float64\n",
            " 16  cityCenters_nearest   18180 non-null  float64\n",
            " 17  parks_around3000      18181 non-null  float64\n",
            " 18  parks_nearest         8079 non-null   float64\n",
            " 19  ponds_around3000      18181 non-null  float64\n",
            " 20  ponds_nearest         9110 non-null   float64\n",
            " 21  days_exposition       20518 non-null  float64\n",
            "dtypes: bool(2), float64(14), int64(3), object(3)\n",
            "memory usage: 3.7+ MB\n",
            "None\n"
          ]
        }
      ],
      "source": [
        "print(df.info())"
      ]
    },
    {
      "cell_type": "code",
      "execution_count": null,
      "metadata": {
        "colab": {
          "base_uri": "https://localhost:8080/"
        },
        "id": "XozHdhMWtqky",
        "outputId": "3ad1e5bf-51d1-4d10-edc9-387bf784b118",
        "trusted": true
      },
      "outputs": [
        {
          "output_type": "stream",
          "name": "stdout",
          "text": [
            "   total_images  last_price  total_area first_day_exposition  rooms  \\\n",
            "0            20  13000000.0       108.0  2019-03-07T00:00:00      3   \n",
            "1             7   3350000.0        40.4  2018-12-04T00:00:00      1   \n",
            "2            10   5196000.0        56.0  2015-08-20T00:00:00      2   \n",
            "3             0  64900000.0       159.0  2015-07-24T00:00:00      3   \n",
            "4             2  10000000.0       100.0  2018-06-19T00:00:00      2   \n",
            "\n",
            "   ceiling_height  floors_total  living_area  floor is_apartment  ...  \\\n",
            "0            2.70          16.0         51.0      8          NaN  ...   \n",
            "1             NaN          11.0         18.6      1          NaN  ...   \n",
            "2             NaN           5.0         34.3      4          NaN  ...   \n",
            "3             NaN          14.0          NaN      9          NaN  ...   \n",
            "4            3.03          14.0         32.0     13          NaN  ...   \n",
            "\n",
            "   kitchen_area  balcony    locality_name  airports_nearest  \\\n",
            "0          25.0      NaN  Санкт-Петербург           18863.0   \n",
            "1          11.0      2.0   посёлок Шушары           12817.0   \n",
            "2           8.3      0.0  Санкт-Петербург           21741.0   \n",
            "3           NaN      0.0  Санкт-Петербург           28098.0   \n",
            "4          41.0      NaN  Санкт-Петербург           31856.0   \n",
            "\n",
            "  cityCenters_nearest  parks_around3000  parks_nearest  ponds_around3000  \\\n",
            "0             16028.0               1.0          482.0               2.0   \n",
            "1             18603.0               0.0            NaN               0.0   \n",
            "2             13933.0               1.0           90.0               2.0   \n",
            "3              6800.0               2.0           84.0               3.0   \n",
            "4              8098.0               2.0          112.0               1.0   \n",
            "\n",
            "   ponds_nearest  days_exposition  \n",
            "0          755.0              NaN  \n",
            "1            NaN             81.0  \n",
            "2          574.0            558.0  \n",
            "3          234.0            424.0  \n",
            "4           48.0            121.0  \n",
            "\n",
            "[5 rows x 22 columns]\n"
          ]
        }
      ],
      "source": [
        "print(df.head())"
      ]
    },
    {
      "cell_type": "markdown",
      "metadata": {
        "id": "-DJJv66LvSOC"
      },
      "source": [
        "Из сравнения с описанием данных уже можно выявить, какую предобработку необходимо будет совершить - так, столбец is_apartment должен содержать данные о том, является ли недвижимость апартаментами (да/нет - булевый тип), но сейчас имеет тип object, обозначающий строковые переменные. Также видно, какие столбцы, вероятно, являлись обязательными для заполнения, а какие нет - так, данные о числе водоемов присутствуют лишь для трети объектов. Дальнейшее изучение этих проблем пройдет на этапе предобработки данных.\n",
        "\n",
        "Перед этим оценим, какие значения мы получили в датасете, с помощью гистограмм."
      ]
    },
    {
      "cell_type": "code",
      "execution_count": null,
      "metadata": {
        "colab": {
          "base_uri": "https://localhost:8080/",
          "height": 1000
        },
        "id": "2SFshSd-xI6y",
        "outputId": "e734ce8e-8033-47fc-afe5-85c7fc7e537a",
        "trusted": true
      },
      "outputs": [
        {
          "output_type": "display_data",
          "data": {
            "text/plain": [
              "<Figure size 1080x1440 with 20 Axes>"
            ],
            "image/png": "[encoded data removed]"
          },
          "metadata": {
            "needs_background": "light"
          }
        }
      ],
      "source": [
        "df.hist(bins=20, figsize=(15, 20));"
      ]
    },
    {
      "cell_type": "markdown",
      "metadata": {
        "id": "JCcgdN7ws8t5"
      },
      "source": [
        "### Предобработка данных"
      ]
    },
    {
      "cell_type": "markdown",
      "metadata": {
        "id": "lGuH2dStx0_A"
      },
      "source": [
        "Определим, в каких столбцах присутствуют пропуски и сколько их."
      ]
    },
    {
      "cell_type": "code",
      "execution_count": null,
      "metadata": {
        "colab": {
          "base_uri": "https://localhost:8080/"
        },
        "id": "TZuVHWkfs8t6",
        "outputId": "c8409856-98f2-4e9d-b2dc-b808ba7cb064",
        "trusted": true
      },
      "outputs": [
        {
          "output_type": "stream",
          "name": "stdout",
          "text": [
            "столбец          число пропусков\n",
            "total_images             0\n",
            "last_price               0\n",
            "total_area               0\n",
            "first_day_exposition     0\n",
            "rooms                    0\n",
            "ceiling_height        9195\n",
            "floors_total            86\n",
            "living_area           1903\n",
            "floor                    0\n",
            "is_apartment         20924\n",
            "studio                   0\n",
            "open_plan                0\n",
            "kitchen_area          2278\n",
            "balcony              11519\n",
            "locality_name           49\n",
            "airports_nearest      5542\n",
            "cityCenters_nearest   5519\n",
            "parks_around3000      5518\n",
            "parks_nearest        15620\n",
            "ponds_around3000      5518\n",
            "ponds_nearest        14589\n",
            "days_exposition       3181\n",
            "\n",
            "Всего объектов: 23699\n"
          ]
        }
      ],
      "source": [
        "print('{0:16} {1}'.format('столбец', 'число пропусков'))\n",
        "for i in df.columns:\n",
        "    print('{0:20} {1:5}'.format(i, df[i].isna().sum()))\n",
        "print()\n",
        "print('Всего объектов:', df.shape[0])"
      ]
    },
    {
      "cell_type": "code",
      "source": [
        "pd.DataFrame(round(df.isna().mean()*100,)).style.background_gradient('coolwarm')\n"
      ],
      "metadata": {
        "colab": {
          "base_uri": "https://localhost:8080/",
          "height": 739
        },
        "id": "bAgbjKytY9xV",
        "outputId": "838074d6-77ec-4b68-f801-675bfc764c23"
      },
      "execution_count": null,
      "outputs": [
        {
          "output_type": "execute_result",
          "data": {
            "text/plain": [
              "<pandas.io.formats.style.Styler at 0x7f3776fa45e0>"
            ],
            "text/html": [
              "<style type=\"text/css\">\n",
              "#T_e30ff_row0_col0, #T_e30ff_row1_col0, #T_e30ff_row2_col0, #T_e30ff_row3_col0, #T_e30ff_row4_col0, #T_e30ff_row6_col0, #T_e30ff_row8_col0, #T_e30ff_row10_col0, #T_e30ff_row11_col0, #T_e30ff_row14_col0 {\n",
              "  background-color: #3b4cc0;\n",
              "  color: #f1f1f1;\n",
              "}\n",
              "#T_e30ff_row5_col0 {\n",
              "  background-color: #cdd9ec;\n",
              "  color: #000000;\n",
              "}\n",
              "#T_e30ff_row7_col0 {\n",
              "  background-color: #5673e0;\n",
              "  color: #f1f1f1;\n",
              "}\n",
              "#T_e30ff_row9_col0 {\n",
              "  background-color: #b40426;\n",
              "  color: #f1f1f1;\n",
              "}\n",
              "#T_e30ff_row12_col0 {\n",
              "  background-color: #5e7de7;\n",
              "  color: #f1f1f1;\n",
              "}\n",
              "#T_e30ff_row13_col0 {\n",
              "  background-color: #ead4c8;\n",
              "  color: #000000;\n",
              "}\n",
              "#T_e30ff_row15_col0, #T_e30ff_row16_col0, #T_e30ff_row17_col0, #T_e30ff_row19_col0 {\n",
              "  background-color: #90b2fe;\n",
              "  color: #000000;\n",
              "}\n",
              "#T_e30ff_row18_col0 {\n",
              "  background-color: #f4987a;\n",
              "  color: #000000;\n",
              "}\n",
              "#T_e30ff_row20_col0 {\n",
              "  background-color: #f7aa8c;\n",
              "  color: #000000;\n",
              "}\n",
              "#T_e30ff_row21_col0 {\n",
              "  background-color: #688aef;\n",
              "  color: #f1f1f1;\n",
              "}\n",
              "</style>\n",
              "<table id=\"T_e30ff_\" class=\"dataframe\">\n",
              "  <thead>\n",
              "    <tr>\n",
              "      <th class=\"blank level0\" >&nbsp;</th>\n",
              "      <th class=\"col_heading level0 col0\" >0</th>\n",
              "    </tr>\n",
              "  </thead>\n",
              "  <tbody>\n",
              "    <tr>\n",
              "      <th id=\"T_e30ff_level0_row0\" class=\"row_heading level0 row0\" >total_images</th>\n",
              "      <td id=\"T_e30ff_row0_col0\" class=\"data row0 col0\" >0.000000</td>\n",
              "    </tr>\n",
              "    <tr>\n",
              "      <th id=\"T_e30ff_level0_row1\" class=\"row_heading level0 row1\" >last_price</th>\n",
              "      <td id=\"T_e30ff_row1_col0\" class=\"data row1 col0\" >0.000000</td>\n",
              "    </tr>\n",
              "    <tr>\n",
              "      <th id=\"T_e30ff_level0_row2\" class=\"row_heading level0 row2\" >total_area</th>\n",
              "      <td id=\"T_e30ff_row2_col0\" class=\"data row2 col0\" >0.000000</td>\n",
              "    </tr>\n",
              "    <tr>\n",
              "      <th id=\"T_e30ff_level0_row3\" class=\"row_heading level0 row3\" >first_day_exposition</th>\n",
              "      <td id=\"T_e30ff_row3_col0\" class=\"data row3 col0\" >0.000000</td>\n",
              "    </tr>\n",
              "    <tr>\n",
              "      <th id=\"T_e30ff_level0_row4\" class=\"row_heading level0 row4\" >rooms</th>\n",
              "      <td id=\"T_e30ff_row4_col0\" class=\"data row4 col0\" >0.000000</td>\n",
              "    </tr>\n",
              "    <tr>\n",
              "      <th id=\"T_e30ff_level0_row5\" class=\"row_heading level0 row5\" >ceiling_height</th>\n",
              "      <td id=\"T_e30ff_row5_col0\" class=\"data row5 col0\" >39.000000</td>\n",
              "    </tr>\n",
              "    <tr>\n",
              "      <th id=\"T_e30ff_level0_row6\" class=\"row_heading level0 row6\" >floors_total</th>\n",
              "      <td id=\"T_e30ff_row6_col0\" class=\"data row6 col0\" >0.000000</td>\n",
              "    </tr>\n",
              "    <tr>\n",
              "      <th id=\"T_e30ff_level0_row7\" class=\"row_heading level0 row7\" >living_area</th>\n",
              "      <td id=\"T_e30ff_row7_col0\" class=\"data row7 col0\" >8.000000</td>\n",
              "    </tr>\n",
              "    <tr>\n",
              "      <th id=\"T_e30ff_level0_row8\" class=\"row_heading level0 row8\" >floor</th>\n",
              "      <td id=\"T_e30ff_row8_col0\" class=\"data row8 col0\" >0.000000</td>\n",
              "    </tr>\n",
              "    <tr>\n",
              "      <th id=\"T_e30ff_level0_row9\" class=\"row_heading level0 row9\" >is_apartment</th>\n",
              "      <td id=\"T_e30ff_row9_col0\" class=\"data row9 col0\" >88.000000</td>\n",
              "    </tr>\n",
              "    <tr>\n",
              "      <th id=\"T_e30ff_level0_row10\" class=\"row_heading level0 row10\" >studio</th>\n",
              "      <td id=\"T_e30ff_row10_col0\" class=\"data row10 col0\" >0.000000</td>\n",
              "    </tr>\n",
              "    <tr>\n",
              "      <th id=\"T_e30ff_level0_row11\" class=\"row_heading level0 row11\" >open_plan</th>\n",
              "      <td id=\"T_e30ff_row11_col0\" class=\"data row11 col0\" >0.000000</td>\n",
              "    </tr>\n",
              "    <tr>\n",
              "      <th id=\"T_e30ff_level0_row12\" class=\"row_heading level0 row12\" >kitchen_area</th>\n",
              "      <td id=\"T_e30ff_row12_col0\" class=\"data row12 col0\" >10.000000</td>\n",
              "    </tr>\n",
              "    <tr>\n",
              "      <th id=\"T_e30ff_level0_row13\" class=\"row_heading level0 row13\" >balcony</th>\n",
              "      <td id=\"T_e30ff_row13_col0\" class=\"data row13 col0\" >49.000000</td>\n",
              "    </tr>\n",
              "    <tr>\n",
              "      <th id=\"T_e30ff_level0_row14\" class=\"row_heading level0 row14\" >locality_name</th>\n",
              "      <td id=\"T_e30ff_row14_col0\" class=\"data row14 col0\" >0.000000</td>\n",
              "    </tr>\n",
              "    <tr>\n",
              "      <th id=\"T_e30ff_level0_row15\" class=\"row_heading level0 row15\" >airports_nearest</th>\n",
              "      <td id=\"T_e30ff_row15_col0\" class=\"data row15 col0\" >23.000000</td>\n",
              "    </tr>\n",
              "    <tr>\n",
              "      <th id=\"T_e30ff_level0_row16\" class=\"row_heading level0 row16\" >cityCenters_nearest</th>\n",
              "      <td id=\"T_e30ff_row16_col0\" class=\"data row16 col0\" >23.000000</td>\n",
              "    </tr>\n",
              "    <tr>\n",
              "      <th id=\"T_e30ff_level0_row17\" class=\"row_heading level0 row17\" >parks_around3000</th>\n",
              "      <td id=\"T_e30ff_row17_col0\" class=\"data row17 col0\" >23.000000</td>\n",
              "    </tr>\n",
              "    <tr>\n",
              "      <th id=\"T_e30ff_level0_row18\" class=\"row_heading level0 row18\" >parks_nearest</th>\n",
              "      <td id=\"T_e30ff_row18_col0\" class=\"data row18 col0\" >66.000000</td>\n",
              "    </tr>\n",
              "    <tr>\n",
              "      <th id=\"T_e30ff_level0_row19\" class=\"row_heading level0 row19\" >ponds_around3000</th>\n",
              "      <td id=\"T_e30ff_row19_col0\" class=\"data row19 col0\" >23.000000</td>\n",
              "    </tr>\n",
              "    <tr>\n",
              "      <th id=\"T_e30ff_level0_row20\" class=\"row_heading level0 row20\" >ponds_nearest</th>\n",
              "      <td id=\"T_e30ff_row20_col0\" class=\"data row20 col0\" >62.000000</td>\n",
              "    </tr>\n",
              "    <tr>\n",
              "      <th id=\"T_e30ff_level0_row21\" class=\"row_heading level0 row21\" >days_exposition</th>\n",
              "      <td id=\"T_e30ff_row21_col0\" class=\"data row21 col0\" >13.000000</td>\n",
              "    </tr>\n",
              "  </tbody>\n",
              "</table>\n"
            ]
          },
          "metadata": {},
          "execution_count": 8
        }
      ]
    },
    {
      "cell_type": "markdown",
      "metadata": {
        "id": "G4cJWGJH2cg4"
      },
      "source": [
        "Часть данных невозможно восстановить без пользователя (например, число этажей), но есть и те, где можно приблизительно предположить значения для данного объекта - для этого сгруппируем данные по населенному пункту и посмотрим медианное значение (для вещественных чисел, таких как расстояние до ближайшего парка) или моду (для целых чисел, таких как количество парков). \n",
        "Есть другой тип пропущенных значений, для которых мы можем сразу заполнить пропуски - для пропущенных в столбце is_apartment поставим значение False (примерно в 80% случаев данные не указывались, но, исходя из определения апартаментов, данные объекты ими не являются - возможно, стоит поместить справку-подсказку для пользователей), а для наличия балкона - 0. "
      ]
    },
    {
      "cell_type": "code",
      "execution_count": null,
      "metadata": {
        "id": "cTo4e8Vk4xWQ",
        "trusted": true
      },
      "outputs": [],
      "source": [
        "df['is_apartment'].fillna(False, inplace=True)\n",
        "df['balcony'].fillna(0, inplace=True)"
      ]
    },
    {
      "cell_type": "markdown",
      "metadata": {
        "id": "eDEEsXIB5Lcv"
      },
      "source": [
        "Проверим, как прошла замена пропущенных значений."
      ]
    },
    {
      "cell_type": "code",
      "execution_count": null,
      "metadata": {
        "colab": {
          "base_uri": "https://localhost:8080/"
        },
        "id": "EZbT6Gni5Sb2",
        "outputId": "cc8a9c15-ffe4-43f5-d654-6e2aab5b965e",
        "trusted": true
      },
      "outputs": [
        {
          "output_type": "stream",
          "name": "stdout",
          "text": [
            "столбец          число пропусков\n",
            "total_images             0\n",
            "last_price               0\n",
            "total_area               0\n",
            "first_day_exposition     0\n",
            "rooms                    0\n",
            "ceiling_height        9195\n",
            "floors_total            86\n",
            "living_area           1903\n",
            "floor                    0\n",
            "is_apartment             0\n",
            "studio                   0\n",
            "open_plan                0\n",
            "kitchen_area          2278\n",
            "balcony                  0\n",
            "locality_name           49\n",
            "airports_nearest      5542\n",
            "cityCenters_nearest   5519\n",
            "parks_around3000      5518\n",
            "parks_nearest        15620\n",
            "ponds_around3000      5518\n",
            "ponds_nearest        14589\n",
            "days_exposition       3181\n",
            "\n",
            "Всего объектов: 23699\n"
          ]
        }
      ],
      "source": [
        "print('{0:16} {1}'.format('столбец', 'число пропусков'))\n",
        "for i in df.columns:\n",
        "    print('{0:20} {1:5}'.format(i, df[i].isna().sum()))\n",
        "print()\n",
        "print('Всего объектов:', df.shape[0])"
      ]
    },
    {
      "cell_type": "markdown",
      "metadata": {
        "id": "OaVi7Ot_5Ui3"
      },
      "source": [
        "Перед тем, как провести замену других значений, необходимо удалить неявные дубликаты в названиях. Создадим новый столбец, содержащий слова, начинающиеся с большой буквы - таким образом, значения \"Кудрово\" и \"деревня Кудрово\" дадут одну категорию."
      ]
    },
    {
      "cell_type": "code",
      "execution_count": null,
      "metadata": {
        "colab": {
          "base_uri": "https://localhost:8080/"
        },
        "id": "3VnOZl1B1Ldv",
        "outputId": "39cfd656-2d03-4713-bef1-e2ed09068ef7",
        "trusted": true
      },
      "outputs": [
        {
          "output_type": "stream",
          "name": "stdout",
          "text": [
            "['Санкт-Петербург' 'посёлок Шушары' 'городской посёлок Янино-1'\n",
            " 'посёлок Парголово' 'посёлок Мурино' 'Ломоносов' 'Сертолово' 'Петергоф'\n",
            " 'Пушкин' 'деревня Кудрово' 'Коммунар' 'Колпино'\n",
            " 'поселок городского типа Красный Бор' 'Гатчина' 'поселок Мурино'\n",
            " 'деревня Фёдоровское' 'Выборг' 'Кронштадт' 'Кировск'\n",
            " 'деревня Новое Девяткино' 'посёлок Металлострой'\n",
            " 'посёлок городского типа Лебяжье' 'посёлок городского типа Сиверский'\n",
            " 'поселок Молодцово' 'поселок городского типа Кузьмоловский'\n",
            " 'садовое товарищество Новая Ропша' 'Павловск' 'деревня Пикколово'\n",
            " 'Всеволожск' 'Волхов' 'Кингисепп' 'Приозерск' 'Сестрорецк'\n",
            " 'деревня Куттузи' 'посёлок Аннино' 'поселок городского типа Ефимовский'\n",
            " 'посёлок Плодовое' 'деревня Заклинье' 'поселок Торковичи'\n",
            " 'поселок Первомайское' 'Красное Село' 'посёлок Понтонный' 'Сясьстрой'\n",
            " 'деревня Старая' 'деревня Лесколово' 'посёлок Новый Свет' 'Сланцы'\n",
            " 'село Путилово' 'Ивангород' 'Мурино' 'Шлиссельбург' 'Никольское'\n",
            " 'Зеленогорск' 'Сосновый Бор' 'поселок Новый Свет' 'деревня Оржицы'\n",
            " 'деревня Кальтино' 'Кудрово' 'поселок Романовка' 'посёлок Бугры'\n",
            " 'поселок Бугры' 'поселок городского типа Рощино' 'Кириши' 'Луга'\n",
            " 'Волосово' 'Отрадное' 'село Павлово' 'поселок Оредеж' 'село Копорье'\n",
            " 'посёлок городского типа Красный Бор' 'посёлок Молодёжное' 'Тихвин'\n",
            " 'посёлок Победа' 'деревня Нурма' 'поселок городского типа Синявино'\n",
            " 'Тосно' 'посёлок городского типа Кузьмоловский' 'посёлок Стрельна'\n",
            " 'Бокситогорск' 'посёлок Александровская' 'деревня Лопухинка' 'Пикалёво'\n",
            " 'поселок Терволово' 'поселок городского типа Советский' 'Подпорожье'\n",
            " 'посёлок Петровское' 'посёлок городского типа Токсово' 'поселок Сельцо'\n",
            " 'посёлок городского типа Вырица' 'деревня Кипень' 'деревня Келози'\n",
            " 'деревня Вартемяги' 'посёлок Тельмана' 'поселок Севастьяново'\n",
            " 'городской поселок Большая Ижора' nan 'городской посёлок Павлово'\n",
            " 'деревня Агалатово' 'посёлок Новогорелово'\n",
            " 'городской посёлок Лесогорский' 'деревня Лаголово' 'поселок Цвелодубово'\n",
            " 'поселок городского типа Рахья' 'поселок городского типа Вырица'\n",
            " 'деревня Белогорка' 'поселок Заводской' 'городской посёлок Новоселье'\n",
            " 'деревня Большие Колпаны' 'деревня Горбунки' 'деревня Батово'\n",
            " 'деревня Заневка' 'деревня Иссад' 'Приморск'\n",
            " 'городской посёлок Фёдоровское' 'деревня Мистолово' 'Новая Ладога'\n",
            " 'поселок Зимитицы' 'поселок Барышево' 'деревня Разметелево'\n",
            " 'поселок городского типа имени Свердлова' 'деревня Пеники'\n",
            " 'поселок Рябово' 'деревня Пудомяги' 'поселок станции Корнево'\n",
            " 'деревня Низино' 'деревня Бегуницы' 'посёлок Поляны'\n",
            " 'городской посёлок Мга' 'поселок Елизаветино'\n",
            " 'посёлок городского типа Кузнечное' 'деревня Колтуши'\n",
            " 'поселок Запорожское' 'посёлок городского типа Рощино'\n",
            " 'деревня Гостилицы' 'деревня Малое Карлино' 'посёлок Мичуринское'\n",
            " 'посёлок городского типа имени Морозова' 'посёлок Песочный'\n",
            " 'посёлок Сосново' 'деревня Аро' 'поселок Ильичёво'\n",
            " 'посёлок городского типа Тайцы' 'деревня Малое Верево' 'деревня Извара'\n",
            " 'поселок станции Вещево' 'село Паша' 'деревня Калитино'\n",
            " 'посёлок городского типа Ульяновка' 'деревня Чудской Бор'\n",
            " 'поселок городского типа Дубровка' 'деревня Мины' 'поселок Войсковицы'\n",
            " 'посёлок городского типа имени Свердлова' 'деревня Коркино'\n",
            " 'посёлок Ропша' 'поселок городского типа Приладожский' 'посёлок Щеглово'\n",
            " 'посёлок Гаврилово' 'Лодейное Поле' 'деревня Рабитицы'\n",
            " 'поселок городского типа Никольский' 'деревня Кузьмолово'\n",
            " 'деревня Малые Колпаны' 'поселок Тельмана' 'посёлок Петро-Славянка'\n",
            " 'городской посёлок Назия' 'посёлок Репино' 'посёлок Ильичёво'\n",
            " 'поселок Углово' 'поселок Старая Малукса' 'садовое товарищество Рахья'\n",
            " 'поселок Аннино' 'поселок Победа' 'деревня Меньково'\n",
            " 'деревня Старые Бегуницы' 'посёлок Сапёрный' 'поселок Семрино'\n",
            " 'поселок Гаврилово' 'поселок Глажево' 'поселок Кобринское'\n",
            " 'деревня Гарболово' 'деревня Юкки' 'поселок станции Приветнинское'\n",
            " 'деревня Мануйлово' 'деревня Пчева' 'поселок Поляны' 'поселок Цвылёво'\n",
            " 'поселок Мельниково' 'посёлок Пудость' 'посёлок Усть-Луга' 'Светогорск'\n",
            " 'Любань' 'поселок Селезнёво' 'поселок городского типа Рябово'\n",
            " 'Каменногорск' 'деревня Кривко' 'поселок Глебычево' 'деревня Парицы'\n",
            " 'поселок Жилпосёлок' 'посёлок городского типа Мга'\n",
            " 'городской поселок Янино-1' 'посёлок Войскорово' 'село Никольское'\n",
            " 'посёлок Терволово' 'поселок Стеклянный' 'посёлок городского типа Важины'\n",
            " 'посёлок Мыза-Ивановка' 'село Русско-Высоцкое'\n",
            " 'поселок городского типа Лебяжье' 'поселок городского типа Форносово'\n",
            " 'село Старая Ладога' 'поселок Житково' 'городской посёлок Виллози'\n",
            " 'деревня Лампово' 'деревня Шпаньково' 'деревня Лаврики' 'посёлок Сумино'\n",
            " 'посёлок Возрождение' 'деревня Старосиверская' 'посёлок Кикерино'\n",
            " 'поселок Возрождение' 'деревня Старое Хинколово' 'посёлок Пригородный'\n",
            " 'посёлок Торфяное' 'городской посёлок Будогощь' 'поселок Суходолье'\n",
            " 'поселок Красная Долина' 'деревня Хапо-Ое'\n",
            " 'поселок городского типа Дружная Горка' 'поселок Лисий Нос'\n",
            " 'деревня Яльгелево' 'посёлок Стеклянный' 'село Рождествено'\n",
            " 'деревня Старополье' 'посёлок Левашово' 'деревня Сяськелево'\n",
            " 'деревня Камышовка'\n",
            " 'садоводческое некоммерческое товарищество Лесная Поляна'\n",
            " 'деревня Хязельки' 'поселок Жилгородок' 'посёлок городского типа Павлово'\n",
            " 'деревня Ялгино' 'поселок Новый Учхоз' 'городской посёлок Рощино'\n",
            " 'поселок Гончарово' 'поселок Почап' 'посёлок Сапёрное'\n",
            " 'посёлок Платформа 69-й километр' 'поселок Каложицы' 'деревня Фалилеево'\n",
            " 'деревня Пельгора' 'поселок городского типа Лесогорский'\n",
            " 'деревня Торошковичи' 'посёлок Белоостров' 'посёлок Алексеевка'\n",
            " 'поселок Серебрянский' 'поселок Лукаши' 'поселок Петровское'\n",
            " 'деревня Щеглово' 'поселок Мичуринское' 'деревня Тарасово'\n",
            " 'поселок Кингисеппский' 'посёлок при железнодорожной станции Вещево'\n",
            " 'поселок Ушаки' 'деревня Котлы' 'деревня Сижно' 'деревня Торосово'\n",
            " 'посёлок Форт Красная Горка' 'поселок городского типа Токсово'\n",
            " 'деревня Новолисино' 'посёлок станции Громово' 'деревня Глинка'\n",
            " 'посёлок Мельниково' 'поселок городского типа Назия'\n",
            " 'деревня Старая Пустошь' 'поселок Коммунары' 'поселок Починок'\n",
            " 'посёлок городского типа Вознесенье' 'деревня Разбегаево'\n",
            " 'посёлок городского типа Рябово' 'поселок Гладкое'\n",
            " 'посёлок при железнодорожной станции Приветнинское' 'поселок Тёсово-4'\n",
            " 'посёлок Жилгородок' 'деревня Бор' 'посёлок Коробицыно'\n",
            " 'деревня Большая Вруда' 'деревня Курковицы' 'посёлок Лисий Нос'\n",
            " 'городской посёлок Советский' 'посёлок Кобралово' 'деревня Суоранда'\n",
            " 'поселок Кобралово' 'поселок городского типа Кондратьево'\n",
            " 'коттеджный поселок Счастье' 'поселок Любань' 'деревня Реброво'\n",
            " 'деревня Зимитицы' 'деревня Тойворово' 'поселок Семиозерье'\n",
            " 'поселок Лесное' 'поселок Совхозный' 'поселок Усть-Луга'\n",
            " 'посёлок Ленинское' 'посёлок Суйда' 'посёлок городского типа Форносово'\n",
            " 'деревня Нижние Осельки' 'посёлок станции Свирь' 'поселок Перово'\n",
            " 'Высоцк' 'поселок Гарболово' 'село Шум' 'поселок Котельский'\n",
            " 'поселок станции Лужайка' 'деревня Большая Пустомержа'\n",
            " 'поселок Красносельское' 'деревня Вахнова Кара' 'деревня Пижма'\n",
            " 'коттеджный поселок Кивеннапа Север' 'поселок Коробицыно'\n",
            " 'поселок Ромашки' 'посёлок Перово' 'деревня Каськово' 'деревня Куровицы'\n",
            " 'посёлок Плоское' 'поселок Сумино'\n",
            " 'поселок городского типа Большая Ижора' 'поселок Кирпичное'\n",
            " 'деревня Ям-Тесово' 'деревня Раздолье' 'деревня Терпилицы'\n",
            " 'посёлок Шугозеро' 'деревня Ваганово' 'поселок Пушное'\n",
            " 'садовое товарищество Садко' 'посёлок Усть-Ижора' 'деревня Выскатка'\n",
            " 'городской посёлок Свирьстрой' 'поселок Громово' 'деревня Кисельня'\n",
            " 'посёлок Старая Малукса' 'деревня Трубников Бор' 'поселок Калитино'\n",
            " 'посёлок Высокоключевой' 'садовое товарищество Приладожский'\n",
            " 'посёлок Пансионат Зелёный Бор' 'деревня Ненимяки'\n",
            " 'поселок Пансионат Зелёный Бор' 'деревня Снегирёвка' 'деревня Рапполово'\n",
            " 'деревня Пустынка' 'поселок Рабитицы' 'деревня Большой Сабск'\n",
            " 'деревня Русско' 'деревня Лупполово' 'деревня Большое Рейзино'\n",
            " 'деревня Малая Романовка' 'поселок Дружноселье' 'поселок Пчевжа'\n",
            " 'поселок Володарское' 'деревня Нижняя' 'коттеджный посёлок Лесное'\n",
            " 'деревня Тихковицы' 'деревня Борисова Грива' 'посёлок Дзержинского']\n"
          ]
        }
      ],
      "source": [
        "#выведем значения, которые у нас есть\n",
        "print(df['locality_name'].unique())"
      ]
    },
    {
      "cell_type": "code",
      "execution_count": null,
      "metadata": {
        "id": "KRnhna2-WycL",
        "trusted": true
      },
      "outputs": [],
      "source": [
        "#переобозначим невведенные места как \"Неизвестно\"\n",
        "df['locality_name'].fillna('Неизвестно', inplace=True)\n",
        "#создадим столбец для корректных названий\n",
        "df['place']=''"
      ]
    },
    {
      "cell_type": "code",
      "execution_count": null,
      "metadata": {
        "colab": {
          "base_uri": "https://localhost:8080/"
        },
        "id": "gVAG0UfF6qw3",
        "outputId": "111f5f91-08bd-4569-d971-e030020f5b5c",
        "trusted": true
      },
      "outputs": [
        {
          "output_type": "stream",
          "name": "stderr",
          "text": [
            "<ipython-input-13-647e44432476>:8: SettingWithCopyWarning: \n",
            "A value is trying to be set on a copy of a slice from a DataFrame\n",
            "\n",
            "See the caveats in the documentation: https://pandas.pydata.org/pandas-docs/stable/user_guide/indexing.html#returning-a-view-versus-a-copy\n",
            "  df['place'][i]=word\n",
            "<ipython-input-13-647e44432476>:12: SettingWithCopyWarning: \n",
            "A value is trying to be set on a copy of a slice from a DataFrame\n",
            "\n",
            "See the caveats in the documentation: https://pandas.pydata.org/pandas-docs/stable/user_guide/indexing.html#returning-a-view-versus-a-copy\n",
            "  df['place'][i]= df['place'][i] + ' '+ word\n"
          ]
        }
      ],
      "source": [
        "#переберем все строчки массива\n",
        "for i in range(df.shape[0]):\n",
        "    #разобьем названия по словам\n",
        "    for word in df['locality_name'][i].split():\n",
        "        if df['place'][i]=='':\n",
        "            #если слово начинается с заглавной буквы, то запишем его в новый столбец\n",
        "            if word.istitle():\n",
        "                df['place'][i]=word\n",
        "        else:\n",
        "            #если мы что-то записали, то надо переносить всю строку до конца\n",
        "            #пример - названия в духе \"поселок Платформа 69-й км\"\n",
        "            df['place'][i]= df['place'][i] + ' '+ word"
      ]
    },
    {
      "cell_type": "markdown",
      "metadata": {
        "id": "Aap0MO8yYorh"
      },
      "source": [
        "Проверим, какие у нас получились населенные пункты."
      ]
    },
    {
      "cell_type": "code",
      "execution_count": null,
      "metadata": {
        "colab": {
          "base_uri": "https://localhost:8080/"
        },
        "id": "nGKYj5vUXALw",
        "outputId": "45523dc4-bd8c-425d-e472-d09939301bb3",
        "trusted": true
      },
      "outputs": [
        {
          "output_type": "execute_result",
          "data": {
            "text/plain": [
              "array(['Санкт-Петербург', 'Шушары', 'Янино-1', 'Парголово', 'Мурино',\n",
              "       'Ломоносов', 'Сертолово', 'Петергоф', 'Пушкин', 'Кудрово',\n",
              "       'Коммунар', 'Колпино', 'Красный Бор', 'Гатчина', 'Фёдоровское',\n",
              "       'Выборг', 'Кронштадт', 'Кировск', 'Новое Девяткино',\n",
              "       'Металлострой', 'Лебяжье', 'Сиверский', 'Молодцово',\n",
              "       'Кузьмоловский', 'Новая Ропша', 'Павловск', 'Пикколово',\n",
              "       'Всеволожск', 'Волхов', 'Кингисепп', 'Приозерск', 'Сестрорецк',\n",
              "       'Куттузи', 'Аннино', 'Ефимовский', 'Плодовое', 'Заклинье',\n",
              "       'Торковичи', 'Первомайское', 'Красное Село', 'Понтонный',\n",
              "       'Сясьстрой', 'Старая', 'Лесколово', 'Новый Свет', 'Сланцы',\n",
              "       'Путилово', 'Ивангород', 'Шлиссельбург', 'Никольское',\n",
              "       'Зеленогорск', 'Сосновый Бор', 'Оржицы', 'Кальтино', 'Романовка',\n",
              "       'Бугры', 'Рощино', 'Кириши', 'Луга', 'Волосово', 'Отрадное',\n",
              "       'Павлово', 'Оредеж', 'Копорье', 'Молодёжное', 'Тихвин', 'Победа',\n",
              "       'Нурма', 'Синявино', 'Тосно', 'Стрельна', 'Бокситогорск',\n",
              "       'Александровская', 'Лопухинка', 'Пикалёво', 'Терволово',\n",
              "       'Советский', 'Подпорожье', 'Петровское', 'Токсово', 'Сельцо',\n",
              "       'Вырица', 'Кипень', 'Келози', 'Вартемяги', 'Тельмана',\n",
              "       'Севастьяново', 'Большая Ижора', 'Неизвестно', 'Агалатово',\n",
              "       'Новогорелово', 'Лесогорский', 'Лаголово', 'Цвелодубово', 'Рахья',\n",
              "       'Белогорка', 'Заводской', 'Новоселье', 'Большие Колпаны',\n",
              "       'Горбунки', 'Батово', 'Заневка', 'Иссад', 'Приморск', 'Мистолово',\n",
              "       'Новая Ладога', 'Зимитицы', 'Барышево', 'Разметелево', 'Свердлова',\n",
              "       'Пеники', 'Рябово', 'Пудомяги', 'Корнево', 'Низино', 'Бегуницы',\n",
              "       'Поляны', 'Мга', 'Елизаветино', 'Кузнечное', 'Колтуши',\n",
              "       'Запорожское', 'Гостилицы', 'Малое Карлино', 'Мичуринское',\n",
              "       'Морозова', 'Песочный', 'Сосново', 'Аро', 'Ильичёво', 'Тайцы',\n",
              "       'Малое Верево', 'Извара', 'Вещево', 'Паша', 'Калитино',\n",
              "       'Ульяновка', 'Чудской Бор', 'Дубровка', 'Мины', 'Войсковицы',\n",
              "       'Коркино', 'Ропша', 'Приладожский', 'Щеглово', 'Гаврилово',\n",
              "       'Лодейное Поле', 'Рабитицы', 'Никольский', 'Кузьмолово',\n",
              "       'Малые Колпаны', 'Петро-Славянка', 'Назия', 'Репино', 'Углово',\n",
              "       'Старая Малукса', 'Меньково', 'Старые Бегуницы', 'Сапёрный',\n",
              "       'Семрино', 'Глажево', 'Кобринское', 'Гарболово', 'Юкки',\n",
              "       'Приветнинское', 'Мануйлово', 'Пчева', 'Цвылёво', 'Мельниково',\n",
              "       'Пудость', 'Усть-Луга', 'Светогорск', 'Любань', 'Селезнёво',\n",
              "       'Каменногорск', 'Кривко', 'Глебычево', 'Парицы', 'Жилпосёлок',\n",
              "       'Войскорово', 'Стеклянный', 'Важины', 'Мыза-Ивановка',\n",
              "       'Русско-Высоцкое', 'Форносово', 'Старая Ладога', 'Житково',\n",
              "       'Виллози', 'Лампово', 'Шпаньково', 'Лаврики', 'Сумино',\n",
              "       'Возрождение', 'Старосиверская', 'Кикерино', 'Старое Хинколово',\n",
              "       'Пригородный', 'Торфяное', 'Будогощь', 'Суходолье',\n",
              "       'Красная Долина', 'Хапо-Ое', 'Дружная Горка', 'Лисий Нос',\n",
              "       'Яльгелево', 'Рождествено', 'Старополье', 'Левашово', 'Сяськелево',\n",
              "       'Камышовка', 'Лесная Поляна', 'Хязельки', 'Жилгородок', 'Ялгино',\n",
              "       'Новый Учхоз', 'Гончарово', 'Почап', 'Сапёрное',\n",
              "       'Платформа 69-й километр', 'Каложицы', 'Фалилеево', 'Пельгора',\n",
              "       'Торошковичи', 'Белоостров', 'Алексеевка', 'Серебрянский',\n",
              "       'Лукаши', 'Тарасово', 'Кингисеппский', 'Ушаки', 'Котлы', 'Сижно',\n",
              "       'Торосово', 'Форт Красная Горка', 'Новолисино', 'Громово',\n",
              "       'Глинка', 'Старая Пустошь', 'Коммунары', 'Починок', 'Вознесенье',\n",
              "       'Разбегаево', 'Гладкое', 'Тёсово-4', 'Бор', 'Коробицыно',\n",
              "       'Большая Вруда', 'Курковицы', 'Кобралово', 'Суоранда',\n",
              "       'Кондратьево', 'Счастье', 'Реброво', 'Тойворово', 'Семиозерье',\n",
              "       'Лесное', 'Совхозный', 'Ленинское', 'Суйда', 'Нижние Осельки',\n",
              "       'Свирь', 'Перово', 'Высоцк', 'Шум', 'Котельский', 'Лужайка',\n",
              "       'Большая Пустомержа', 'Красносельское', 'Вахнова Кара', 'Пижма',\n",
              "       'Кивеннапа Север', 'Ромашки', 'Каськово', 'Куровицы', 'Плоское',\n",
              "       'Кирпичное', 'Ям-Тесово', 'Раздолье', 'Терпилицы', 'Шугозеро',\n",
              "       'Ваганово', 'Пушное', 'Садко', 'Усть-Ижора', 'Выскатка',\n",
              "       'Свирьстрой', 'Кисельня', 'Трубников Бор', 'Высокоключевой',\n",
              "       'Пансионат Зелёный Бор', 'Ненимяки', 'Снегирёвка', 'Рапполово',\n",
              "       'Пустынка', 'Большой Сабск', 'Русско', 'Лупполово',\n",
              "       'Большое Рейзино', 'Малая Романовка', 'Дружноселье', 'Пчевжа',\n",
              "       'Володарское', 'Нижняя', 'Тихковицы', 'Борисова Грива',\n",
              "       'Дзержинского'], dtype=object)"
            ]
          },
          "metadata": {},
          "execution_count": 14
        }
      ],
      "source": [
        "df['place'].unique()"
      ]
    },
    {
      "cell_type": "code",
      "source": [
        "#посчитаем, сколько повторов есть в наших данных\n",
        "print(df[df.duplicated()])"
      ],
      "metadata": {
        "colab": {
          "base_uri": "https://localhost:8080/"
        },
        "id": "FwUVNiJYZYhh",
        "outputId": "6824e7f1-8e73-4eb9-a230-ee6ccf399f16"
      },
      "execution_count": null,
      "outputs": [
        {
          "output_type": "stream",
          "name": "stdout",
          "text": [
            "Empty DataFrame\n",
            "Columns: [total_images, last_price, total_area, first_day_exposition, rooms, ceiling_height, floors_total, living_area, floor, is_apartment, studio, open_plan, kitchen_area, balcony, locality_name, airports_nearest, cityCenters_nearest, parks_around3000, parks_nearest, ponds_around3000, ponds_nearest, days_exposition, place]\n",
            "Index: []\n",
            "\n",
            "[0 rows x 23 columns]\n"
          ]
        }
      ]
    },
    {
      "cell_type": "markdown",
      "metadata": {
        "id": "C-mH4kmQY9ri"
      },
      "source": [
        "Явных дубликатов нет.\n",
        "Теперь можем заполнить пропуски в других столбцах. "
      ]
    },
    {
      "cell_type": "code",
      "execution_count": null,
      "metadata": {
        "colab": {
          "base_uri": "https://localhost:8080/"
        },
        "id": "eZoHOMKLaD8B",
        "outputId": "093729fb-aa36-4ffd-87fc-c68607105607",
        "trusted": true
      },
      "outputs": [
        {
          "output_type": "stream",
          "name": "stdout",
          "text": [
            "столбец          число пропусков\n",
            "total_images             0\n",
            "last_price               0\n",
            "total_area               0\n",
            "first_day_exposition     0\n",
            "rooms                    0\n",
            "ceiling_height        9195\n",
            "floors_total            86\n",
            "living_area           1903\n",
            "floor                    0\n",
            "is_apartment             0\n",
            "studio                   0\n",
            "open_plan                0\n",
            "kitchen_area          2278\n",
            "balcony                  0\n",
            "locality_name            0\n",
            "airports_nearest      5542\n",
            "cityCenters_nearest   5519\n",
            "parks_around3000      5518\n",
            "parks_nearest        15620\n",
            "ponds_around3000      5518\n",
            "ponds_nearest        14589\n",
            "days_exposition       3181\n",
            "place                    0\n",
            "\n",
            "Всего объектов: 23699\n"
          ]
        }
      ],
      "source": [
        "print('{0:16} {1}'.format('столбец', 'число пропусков'))\n",
        "for i in df.columns:\n",
        "    print('{0:20} {1:5}'.format(i, df[i].isna().sum()))\n",
        "print()\n",
        "print('Всего объектов:', df.shape[0])"
      ]
    },
    {
      "cell_type": "code",
      "execution_count": null,
      "metadata": {
        "id": "gu2pdR26Zt_J",
        "trusted": true
      },
      "outputs": [],
      "source": [
        "#создадим списки с названиями столбцов, которые хотим поправить\n",
        "params = ['airports_nearest', 'parks_nearest', 'ponds_nearest', 'ceiling_height', 'parks_around3000', 'ponds_around3000']\n",
        "#будем перебирать населенные пункты и заменять пропущенное значение медианным значением из имеющихся данных\n",
        "for i in df['place'].unique():\n",
        "    for par in params:\n",
        "        df.loc[(df['place']==i) & (df[par].isna()), par] = df.loc[(df['place']==i) & ~ (df[par].isna()), par].median()"
      ]
    },
    {
      "cell_type": "markdown",
      "metadata": {
        "id": "xDOseIZcho0O"
      },
      "source": [
        "Посмотрим, сколько пропусков удалось поправить таким способом"
      ]
    },
    {
      "cell_type": "code",
      "execution_count": null,
      "metadata": {
        "colab": {
          "base_uri": "https://localhost:8080/"
        },
        "id": "oIhTrBkGdH5_",
        "outputId": "30f5fb00-d9a2-448a-b1d0-fa6baf671c0f",
        "trusted": true
      },
      "outputs": [
        {
          "output_type": "stream",
          "name": "stdout",
          "text": [
            "столбец          число пропусков\n",
            "total_images             0\n",
            "last_price               0\n",
            "total_area               0\n",
            "first_day_exposition     0\n",
            "rooms                    0\n",
            "ceiling_height          95\n",
            "floors_total            86\n",
            "living_area           1903\n",
            "floor                    0\n",
            "is_apartment             0\n",
            "studio                   0\n",
            "open_plan                0\n",
            "kitchen_area          2278\n",
            "balcony                  0\n",
            "locality_name            0\n",
            "airports_nearest      4829\n",
            "cityCenters_nearest   5519\n",
            "parks_around3000      4829\n",
            "parks_nearest         5998\n",
            "ponds_around3000      4829\n",
            "ponds_nearest         4938\n",
            "days_exposition       3181\n",
            "place                    0\n",
            "\n",
            "Всего объектов: 23699\n"
          ]
        }
      ],
      "source": [
        "print('{0:16} {1}'.format('столбец', 'число пропусков'))\n",
        "for i in df.columns:\n",
        "    print('{0:20} {1:5}'.format(i, df[i].isna().sum()))\n",
        "print()\n",
        "print('Всего объектов:', df.shape[0])"
      ]
    },
    {
      "cell_type": "markdown",
      "metadata": {
        "id": "rfeSVGf-h1R2"
      },
      "source": [
        "Видим, что в последних столбцах осталось множество пропущенных значений. Рассмотрим на примере данных о расстоянии до аэропорта."
      ]
    },
    {
      "cell_type": "code",
      "execution_count": null,
      "metadata": {
        "colab": {
          "base_uri": "https://localhost:8080/"
        },
        "id": "EY4HqBD0fvc2",
        "outputId": "7d5ca349-572f-412a-8926-b596babb0228",
        "trusted": true
      },
      "outputs": [
        {
          "output_type": "stream",
          "name": "stdout",
          "text": [
            "5         Янино-1\n",
            "12      Сертолово\n",
            "22        Кудрово\n",
            "30       Коммунар\n",
            "37    Красный Бор\n",
            "47        Гатчина\n",
            "62      Сертолово\n",
            "64        Гатчина\n",
            "68    Фёдоровское\n",
            "69         Выборг\n",
            "Name: place, dtype: object\n"
          ]
        }
      ],
      "source": [
        "print(df.loc[df['airports_nearest'].isna(), 'place'].head(10))"
      ]
    },
    {
      "cell_type": "code",
      "execution_count": null,
      "metadata": {
        "colab": {
          "base_uri": "https://localhost:8080/"
        },
        "id": "LGGbzI2Af-1m",
        "outputId": "c02a3e6a-1f7b-4d12-e7a7-ae1a55300e3f",
        "trusted": true
      },
      "outputs": [
        {
          "output_type": "stream",
          "name": "stdout",
          "text": [
            "[nan]\n"
          ]
        }
      ],
      "source": [
        "print(df.loc[df['place']=='Гатчина', 'airports_nearest'].unique())"
      ]
    },
    {
      "cell_type": "markdown",
      "metadata": {
        "id": "P1pcDbm4iNGm"
      },
      "source": [
        "То есть, если в городе или поселке аэропорта нет, то значением ставится nan. Эти пропуски мы заполнить не можем."
      ]
    },
    {
      "cell_type": "markdown",
      "metadata": {
        "id": "DFIYE-Gzi6st"
      },
      "source": [
        "Перейдем к рассмотрению типов данных."
      ]
    },
    {
      "cell_type": "code",
      "execution_count": null,
      "metadata": {
        "colab": {
          "base_uri": "https://localhost:8080/"
        },
        "id": "0kHSIAhkg8SW",
        "outputId": "21fffbf5-aab8-411f-8ff6-066bc9c3ff0e",
        "trusted": true
      },
      "outputs": [
        {
          "output_type": "stream",
          "name": "stdout",
          "text": [
            "<class 'pandas.core.frame.DataFrame'>\n",
            "RangeIndex: 23699 entries, 0 to 23698\n",
            "Data columns (total 23 columns):\n",
            " #   Column                Non-Null Count  Dtype  \n",
            "---  ------                --------------  -----  \n",
            " 0   total_images          23699 non-null  int64  \n",
            " 1   last_price            23699 non-null  float64\n",
            " 2   total_area            23699 non-null  float64\n",
            " 3   first_day_exposition  23699 non-null  object \n",
            " 4   rooms                 23699 non-null  int64  \n",
            " 5   ceiling_height        23604 non-null  float64\n",
            " 6   floors_total          23613 non-null  float64\n",
            " 7   living_area           21796 non-null  float64\n",
            " 8   floor                 23699 non-null  int64  \n",
            " 9   is_apartment          23699 non-null  bool   \n",
            " 10  studio                23699 non-null  bool   \n",
            " 11  open_plan             23699 non-null  bool   \n",
            " 12  kitchen_area          21421 non-null  float64\n",
            " 13  balcony               23699 non-null  float64\n",
            " 14  locality_name         23699 non-null  object \n",
            " 15  airports_nearest      18870 non-null  float64\n",
            " 16  cityCenters_nearest   18180 non-null  float64\n",
            " 17  parks_around3000      18870 non-null  float64\n",
            " 18  parks_nearest         17701 non-null  float64\n",
            " 19  ponds_around3000      18870 non-null  float64\n",
            " 20  ponds_nearest         18761 non-null  float64\n",
            " 21  days_exposition       20518 non-null  float64\n",
            " 22  place                 23699 non-null  object \n",
            "dtypes: bool(3), float64(14), int64(3), object(3)\n",
            "memory usage: 3.7+ MB\n",
            "None\n"
          ]
        }
      ],
      "source": [
        "print(df.info())"
      ]
    },
    {
      "cell_type": "markdown",
      "metadata": {
        "id": "wwmkMjzRjxSF"
      },
      "source": [
        "Отдельно рассмотрим значения столбца о количестве дней размещения объявления."
      ]
    },
    {
      "cell_type": "code",
      "execution_count": null,
      "metadata": {
        "colab": {
          "base_uri": "https://localhost:8080/"
        },
        "id": "S2SmMSP0jmSw",
        "outputId": "3ab98131-57d4-4e05-f548-e4bb37a1ef7d",
        "trusted": true
      },
      "outputs": [
        {
          "output_type": "stream",
          "name": "stdout",
          "text": [
            "[ nan  81. 558. 424. 121.  55. 155. 189. 289. 137.]\n"
          ]
        }
      ],
      "source": [
        "print(df['days_exposition'].unique()[:10])"
      ]
    },
    {
      "cell_type": "markdown",
      "metadata": {
        "id": "0lxPIxTYjBWm"
      },
      "source": [
        "Необходимо изменить типы некоторых столбцов:\n",
        "\n",
        "floors_total, balcony, parks_around3000, ponds_around3000, days_exposition - к целочисленному типу - это натуральные числа;\n",
        "\n",
        "first_day_exposition - к типу date-time."
      ]
    },
    {
      "cell_type": "markdown",
      "metadata": {
        "id": "sKmZXzDJoHnz"
      },
      "source": [
        "Для удобства работы заполним пропуски заведомо \"невозможным\" значением -1. "
      ]
    },
    {
      "cell_type": "code",
      "execution_count": null,
      "metadata": {
        "id": "G6oNa4u1kIWP",
        "trusted": true
      },
      "outputs": [],
      "source": [
        "for i in ['floors_total', 'balcony', 'parks_around3000', 'ponds_around3000', 'days_exposition']:\n",
        "    df[i].fillna(-1, inplace=True)"
      ]
    },
    {
      "cell_type": "code",
      "execution_count": null,
      "metadata": {
        "id": "uIhSRZ6ClwxF",
        "trusted": true
      },
      "outputs": [],
      "source": [
        "for i in ['floors_total', 'balcony', 'parks_around3000', 'ponds_around3000', 'days_exposition']:\n",
        "    df[i] = df[i].astype('int64')"
      ]
    },
    {
      "cell_type": "code",
      "execution_count": null,
      "metadata": {
        "id": "M5F_Xhhvmh18",
        "trusted": true
      },
      "outputs": [],
      "source": [
        "df['first_day_exposition'] = pd.to_datetime(df['first_day_exposition'], format='%Y-%m-%dT%H:%M:%S')"
      ]
    },
    {
      "cell_type": "markdown",
      "metadata": {
        "id": "3Oca4-DYoQqk"
      },
      "source": [
        "Проверим, как прошла смена типов данных."
      ]
    },
    {
      "cell_type": "code",
      "execution_count": null,
      "metadata": {
        "colab": {
          "base_uri": "https://localhost:8080/"
        },
        "id": "U4t9FI2ElGjt",
        "outputId": "ab16a27a-14e4-4137-8ae3-b7304f5ebed2",
        "trusted": true
      },
      "outputs": [
        {
          "output_type": "stream",
          "name": "stdout",
          "text": [
            "<class 'pandas.core.frame.DataFrame'>\n",
            "RangeIndex: 23699 entries, 0 to 23698\n",
            "Data columns (total 23 columns):\n",
            " #   Column                Non-Null Count  Dtype         \n",
            "---  ------                --------------  -----         \n",
            " 0   total_images          23699 non-null  int64         \n",
            " 1   last_price            23699 non-null  float64       \n",
            " 2   total_area            23699 non-null  float64       \n",
            " 3   first_day_exposition  23699 non-null  datetime64[ns]\n",
            " 4   rooms                 23699 non-null  int64         \n",
            " 5   ceiling_height        23604 non-null  float64       \n",
            " 6   floors_total          23699 non-null  int64         \n",
            " 7   living_area           21796 non-null  float64       \n",
            " 8   floor                 23699 non-null  int64         \n",
            " 9   is_apartment          23699 non-null  bool          \n",
            " 10  studio                23699 non-null  bool          \n",
            " 11  open_plan             23699 non-null  bool          \n",
            " 12  kitchen_area          21421 non-null  float64       \n",
            " 13  balcony               23699 non-null  int64         \n",
            " 14  locality_name         23699 non-null  object        \n",
            " 15  airports_nearest      18870 non-null  float64       \n",
            " 16  cityCenters_nearest   18180 non-null  float64       \n",
            " 17  parks_around3000      23699 non-null  int64         \n",
            " 18  parks_nearest         17701 non-null  float64       \n",
            " 19  ponds_around3000      23699 non-null  int64         \n",
            " 20  ponds_nearest         18761 non-null  float64       \n",
            " 21  days_exposition       23699 non-null  int64         \n",
            " 22  place                 23699 non-null  object        \n",
            "dtypes: bool(3), datetime64[ns](1), float64(9), int64(8), object(2)\n",
            "memory usage: 3.7+ MB\n",
            "None\n"
          ]
        }
      ],
      "source": [
        "print(df.info())"
      ]
    },
    {
      "cell_type": "markdown",
      "metadata": {
        "id": "SEWcQ02OotSl"
      },
      "source": [
        "Теперь рассмотрим распределение значений с помощью гистограмм."
      ]
    },
    {
      "cell_type": "code",
      "execution_count": null,
      "metadata": {
        "colab": {
          "base_uri": "https://localhost:8080/",
          "height": 879
        },
        "id": "0oyuBR1go1Uc",
        "outputId": "f546e560-2353-449d-edcf-6acc38fe0acb",
        "trusted": true
      },
      "outputs": [
        {
          "output_type": "display_data",
          "data": {
            "text/plain": [
              "<Figure size 720x1080 with 20 Axes>"
            ],
            "image/png": "[encoded data removed]"
          },
          "metadata": {
            "needs_background": "light"
          }
        }
      ],
      "source": [
        "df.hist(bins=100, figsize=(10,15));"
      ]
    },
    {
      "cell_type": "markdown",
      "metadata": {
        "id": "_Hw-HAfSqE6b"
      },
      "source": [
        "Рассмотрим подробнее некоторые столбцы."
      ]
    },
    {
      "cell_type": "code",
      "execution_count": null,
      "metadata": {
        "colab": {
          "base_uri": "https://localhost:8080/"
        },
        "id": "d8x21SA6qQY8",
        "outputId": "a3a62caa-645c-42f6-8059-17e106291a03",
        "trusted": true
      },
      "outputs": [
        {
          "output_type": "stream",
          "name": "stdout",
          "text": [
            "count    2.369900e+04\n",
            "mean     6.541549e+06\n",
            "std      1.088701e+07\n",
            "min      1.219000e+04\n",
            "25%      3.400000e+06\n",
            "50%      4.650000e+06\n",
            "75%      6.800000e+06\n",
            "max      7.630000e+08\n",
            "Name: last_price, dtype: float64\n"
          ]
        }
      ],
      "source": [
        "#сначала посмотрим общую статистику\n",
        "print(df['last_price'].describe())"
      ]
    },
    {
      "cell_type": "code",
      "execution_count": null,
      "metadata": {
        "colab": {
          "base_uri": "https://localhost:8080/"
        },
        "id": "RgX2hXTaqeRD",
        "outputId": "86093b38-d5a0-4745-9517-9a1571523f39",
        "trusted": true
      },
      "outputs": [
        {
          "output_type": "stream",
          "name": "stdout",
          "text": [
            "       total_images  last_price  total_area first_day_exposition  rooms  \\\n",
            "8793              7     12190.0       109.0           2019-03-20      2   \n",
            "17456             7    430000.0        30.4           2019-04-22      1   \n",
            "14911             5    430000.0        54.0           2018-06-26      2   \n",
            "16274            18    440000.0        40.0           2018-07-10      1   \n",
            "17676             0    450000.0        36.5           2018-02-01      1   \n",
            "\n",
            "       ceiling_height  floors_total  living_area  floor  is_apartment  ...  \\\n",
            "8793             2.75            25         32.0     25         False  ...   \n",
            "17456            2.50             2         16.0      1         False  ...   \n",
            "14911             NaN             3          NaN      3         False  ...   \n",
            "16274             NaN             5          NaN      1         False  ...   \n",
            "17676             NaN             5         17.3      4         False  ...   \n",
            "\n",
            "       balcony          locality_name  airports_nearest  cityCenters_nearest  \\\n",
            "8793         0        Санкт-Петербург           36421.0               9176.0   \n",
            "17456        0                 Сланцы               NaN                  NaN   \n",
            "14911        0  посёлок станции Свирь               NaN                  NaN   \n",
            "16274        0     деревня Старополье               NaN                  NaN   \n",
            "17676        1      деревня Ям-Тесово               NaN                  NaN   \n",
            "\n",
            "      parks_around3000  parks_nearest  ponds_around3000  ponds_nearest  \\\n",
            "8793                 1          805.0                 0          503.0   \n",
            "17456               -1            NaN                -1            NaN   \n",
            "14911               -1            NaN                -1            NaN   \n",
            "16274               -1            NaN                -1            NaN   \n",
            "17676               -1            NaN                -1            NaN   \n",
            "\n",
            "       days_exposition            place  \n",
            "8793                 8  Санкт-Петербург  \n",
            "17456               -1           Сланцы  \n",
            "14911               44            Свирь  \n",
            "16274               45       Старополье  \n",
            "17676              120        Ям-Тесово  \n",
            "\n",
            "[5 rows x 23 columns]\n"
          ]
        }
      ],
      "source": [
        "#отсортируем по возрастанию\n",
        "print(df.sort_values('last_price').head())"
      ]
    },
    {
      "cell_type": "markdown",
      "metadata": {
        "id": "rHM5HpYzrLzF"
      },
      "source": [
        "Можем заключить, что в цене на первой строчке опечатка, ее надо удалить."
      ]
    },
    {
      "cell_type": "markdown",
      "metadata": {
        "id": "s5dWMEXcuUIj"
      },
      "source": [
        "Рассмотрим аномально большие значения."
      ]
    },
    {
      "cell_type": "code",
      "execution_count": null,
      "metadata": {
        "colab": {
          "base_uri": "https://localhost:8080/",
          "height": 295
        },
        "id": "fYPMNR71uYEq",
        "outputId": "665c5d52-4218-487c-f018-417636d508df",
        "trusted": true
      },
      "outputs": [
        {
          "output_type": "execute_result",
          "data": {
            "text/plain": [
              "<matplotlib.axes._subplots.AxesSubplot at 0x7f37693056d0>"
            ]
          },
          "metadata": {},
          "execution_count": 31
        },
        {
          "output_type": "display_data",
          "data": {
            "text/plain": [
              "<Figure size 432x288 with 1 Axes>"
            ],
            "image/png": "[encoded data removed]"
          },
          "metadata": {
            "needs_background": "light"
          }
        }
      ],
      "source": [
        "df['last_price'].hist(bins=100)"
      ]
    },
    {
      "cell_type": "code",
      "execution_count": null,
      "metadata": {
        "colab": {
          "base_uri": "https://localhost:8080/"
        },
        "id": "2vHV9p8MuGKS",
        "outputId": "ddb4008e-b3e4-43b6-e2ba-7406e4854ff1",
        "trusted": true
      },
      "outputs": [
        {
          "output_type": "stream",
          "name": "stdout",
          "text": [
            "       total_images   last_price  total_area first_day_exposition  rooms  \\\n",
            "12971            19  763000000.0       400.0           2017-09-30      7   \n",
            "19540             8  420000000.0       900.0           2017-12-06     12   \n",
            "14706            15  401300000.0       401.0           2016-02-20      5   \n",
            "1436             19  330000000.0       190.0           2018-04-04      3   \n",
            "15651            20  300000000.0       618.0           2017-12-18      7   \n",
            "\n",
            "       ceiling_height  floors_total  living_area  floor  is_apartment  ...  \\\n",
            "12971             2.7            10        250.0     10         False  ...   \n",
            "19540             2.8            25        409.7     25         False  ...   \n",
            "14706             2.7             9        204.0      9         False  ...   \n",
            "1436              3.5             7         95.0      5         False  ...   \n",
            "15651             3.4             7        258.0      5         False  ...   \n",
            "\n",
            "       balcony    locality_name  airports_nearest  cityCenters_nearest  \\\n",
            "12971        2  Санкт-Петербург           25108.0               3956.0   \n",
            "19540        0  Санкт-Петербург           30706.0               7877.0   \n",
            "14706        3  Санкт-Петербург           21912.0               2389.0   \n",
            "1436         0  Санкт-Петербург           23011.0               1197.0   \n",
            "15651        0  Санкт-Петербург           32440.0               5297.0   \n",
            "\n",
            "      parks_around3000  parks_nearest  ponds_around3000  ponds_nearest  \\\n",
            "12971                1          530.0                 3          756.0   \n",
            "19540                0          460.0                 2          318.0   \n",
            "14706                1          545.0                 1          478.0   \n",
            "1436                 3          519.0                 3          285.0   \n",
            "15651                0          460.0                 2          198.0   \n",
            "\n",
            "       days_exposition            place  \n",
            "12971               33  Санкт-Петербург  \n",
            "19540              106  Санкт-Петербург  \n",
            "14706              393  Санкт-Петербург  \n",
            "1436               233  Санкт-Петербург  \n",
            "15651              111  Санкт-Петербург  \n",
            "\n",
            "[5 rows x 23 columns]\n"
          ]
        }
      ],
      "source": [
        "print(df.sort_values('last_price', ascending=False).head())"
      ]
    },
    {
      "cell_type": "markdown",
      "metadata": {
        "id": "g1DeEA2PusHx"
      },
      "source": [
        "Нельзя сказать, что цена здесь является опечаткой, однако при выявлении взаимосвязей такие аномальные значения могут помешать. Создадим новый датасет с более \"типичными\" значениями."
      ]
    },
    {
      "cell_type": "code",
      "execution_count": null,
      "metadata": {
        "colab": {
          "base_uri": "https://localhost:8080/",
          "height": 295
        },
        "id": "KiFPMf6YwMQu",
        "outputId": "d84105d4-26b9-48b4-aadc-ae6d9ca5f68c",
        "trusted": true
      },
      "outputs": [
        {
          "output_type": "execute_result",
          "data": {
            "text/plain": [
              "<matplotlib.axes._subplots.AxesSubplot at 0x7f3769e3f880>"
            ]
          },
          "metadata": {},
          "execution_count": 33
        },
        {
          "output_type": "display_data",
          "data": {
            "text/plain": [
              "<Figure size 432x288 with 1 Axes>"
            ],
            "image/png": "[encoded data removed]"
          },
          "metadata": {
            "needs_background": "light"
          }
        }
      ],
      "source": [
        "#определим границы с помощью гистограммы\n",
        "df['last_price'].hist(range=(0,100000000))"
      ]
    },
    {
      "cell_type": "code",
      "source": [
        "#введем функцию, которая будет \"обрезать\" датафрейм по квартилям 5, 95 \n",
        "#по определенному параметру\n",
        "def non_outliers(df, par):\n",
        "    lower_bound = df[par].quantile(q=0.05)\n",
        "    upper_bound = df[par].quantile(q=0.95)\n",
        "    return df[(df[par]>lower_bound)|(df[par]<upper_bound)]\n"
      ],
      "metadata": {
        "id": "V6m7T_l6a8K4"
      },
      "execution_count": null,
      "outputs": []
    },
    {
      "cell_type": "code",
      "source": [
        "data = non_outliers (df, 'last_price')"
      ],
      "metadata": {
        "id": "TVD76un_coRt"
      },
      "execution_count": null,
      "outputs": []
    },
    {
      "cell_type": "code",
      "execution_count": null,
      "metadata": {
        "colab": {
          "base_uri": "https://localhost:8080/",
          "height": 295
        },
        "id": "9Y8EGYk5vMZR",
        "outputId": "011debb4-ef9f-41ca-bb98-be3340ee265b",
        "trusted": true
      },
      "outputs": [
        {
          "output_type": "execute_result",
          "data": {
            "text/plain": [
              "<matplotlib.axes._subplots.AxesSubplot at 0x7f376bde3ac0>"
            ]
          },
          "metadata": {},
          "execution_count": 41
        },
        {
          "output_type": "display_data",
          "data": {
            "text/plain": [
              "<Figure size 432x288 with 1 Axes>"
            ],
            "image/png": "[encoded data removed]"
          },
          "metadata": {
            "needs_background": "light"
          }
        }
      ],
      "source": [
        "#построим гистограмму для очищенных данных\n",
        "data['last_price'].hist()"
      ]
    },
    {
      "cell_type": "code",
      "execution_count": null,
      "metadata": {
        "colab": {
          "base_uri": "https://localhost:8080/"
        },
        "id": "MiLwEQ8Wrz8k",
        "outputId": "f200fc11-2fc9-4056-c531-e4dc21bb71bc",
        "trusted": true
      },
      "outputs": [
        {
          "output_type": "execute_result",
          "data": {
            "text/plain": [
              "count    2.369900e+04\n",
              "mean     6.541549e+06\n",
              "std      1.088701e+07\n",
              "min      1.219000e+04\n",
              "25%      3.400000e+06\n",
              "50%      4.650000e+06\n",
              "75%      6.800000e+06\n",
              "max      7.630000e+08\n",
              "Name: last_price, dtype: float64"
            ]
          },
          "metadata": {},
          "execution_count": 42
        }
      ],
      "source": [
        "#посмотрим еще раз на значения\n",
        "data['last_price'].describe()"
      ]
    },
    {
      "cell_type": "markdown",
      "metadata": {
        "id": "sdeVLD0cs4o0"
      },
      "source": [
        "Перейдем к следующему параметру - площади. Здесь и далее работаем на новом датасете, \"очищенном\" от выбросов."
      ]
    },
    {
      "cell_type": "code",
      "execution_count": null,
      "metadata": {
        "colab": {
          "base_uri": "https://localhost:8080/"
        },
        "id": "gVrW7NS8r_dj",
        "outputId": "38ca70a6-0854-4dc3-a5bd-52d1c1636dd3",
        "trusted": true
      },
      "outputs": [
        {
          "output_type": "stream",
          "name": "stdout",
          "text": [
            "count    23699.000000\n",
            "mean        60.348651\n",
            "std         35.654083\n",
            "min         12.000000\n",
            "25%         40.000000\n",
            "50%         52.000000\n",
            "75%         69.900000\n",
            "max        900.000000\n",
            "Name: total_area, dtype: float64\n"
          ]
        }
      ],
      "source": [
        "#сначала рассмотрим общий разброс параметра\n",
        "print(data['total_area'].describe())"
      ]
    },
    {
      "cell_type": "code",
      "execution_count": null,
      "metadata": {
        "colab": {
          "base_uri": "https://localhost:8080/",
          "height": 282
        },
        "id": "m-bRGo2MsDIj",
        "outputId": "fcf6edca-e41a-47f5-8c67-4bf26fb3bc56",
        "trusted": true
      },
      "outputs": [
        {
          "output_type": "execute_result",
          "data": {
            "text/plain": [
              "<matplotlib.axes._subplots.AxesSubplot at 0x7f376a9a24c0>"
            ]
          },
          "metadata": {},
          "execution_count": 44
        },
        {
          "output_type": "display_data",
          "data": {
            "text/plain": [
              "<Figure size 432x288 with 1 Axes>"
            ],
            "image/png": "[encoded data removed]"
          },
          "metadata": {
            "needs_background": "light"
          }
        }
      ],
      "source": [
        "#рассмотрим на гистограмме\n",
        "data['total_area'].hist(bins=100)"
      ]
    },
    {
      "cell_type": "markdown",
      "source": [
        "<div class=\"alert alert-info\"> <b>Комментарии студента:</b> Оставила старое рассмотрение, но обрезала уже по новой функции </div>"
      ],
      "metadata": {
        "id": "YglMN2i9dIc0"
      }
    },
    {
      "cell_type": "code",
      "execution_count": null,
      "metadata": {
        "colab": {
          "base_uri": "https://localhost:8080/"
        },
        "id": "01xsdy9tsbH6",
        "outputId": "212c2da8-582b-41b5-8ea0-366d8383eea9",
        "trusted": true
      },
      "outputs": [
        {
          "output_type": "stream",
          "name": "stdout",
          "text": [
            "Санкт-Петербург    527\n",
            "Пушкин              10\n",
            "Петергоф             3\n",
            "Красное Село         2\n",
            "Репино               2\n",
            "Павловск             2\n",
            "Сестрорецк           2\n",
            "Неизвестно           2\n",
            "Выборг               2\n",
            "Стрельна             2\n",
            "Хязельки             1\n",
            "Колпино              1\n",
            "Новое Девяткино      1\n",
            "Сертолово            1\n",
            "Кронштадт            1\n",
            "Зеленогорск          1\n",
            "Всеволожск           1\n",
            "Парголово            1\n",
            "Александровская      1\n",
            "Бор                  1\n",
            "Name: place, dtype: int64\n"
          ]
        }
      ],
      "source": [
        "#видно, что объектов с площадью больше 150 мало - посмотрим, где они встречаются\n",
        "print(data.loc[data['total_area']>150, 'place'].value_counts())"
      ]
    },
    {
      "cell_type": "code",
      "execution_count": null,
      "metadata": {
        "colab": {
          "base_uri": "https://localhost:8080/"
        },
        "id": "0-s0gQgztRma",
        "outputId": "990699c7-bf8d-4818-ebc9-d9c5e58b878c",
        "trusted": true
      },
      "outputs": [
        {
          "output_type": "stream",
          "name": "stdout",
          "text": [
            "       total_images   last_price  total_area first_day_exposition  rooms  \\\n",
            "19540             8  420000000.0       900.0           2017-12-06     12   \n",
            "12859            20  140000000.0       631.2           2019-04-09      7   \n",
            "3117             19  140000000.0       631.0           2019-03-30      7   \n",
            "15651            20  300000000.0       618.0           2017-12-18      7   \n",
            "5358             20   65000000.0       590.0           2019-02-14     15   \n",
            "\n",
            "       ceiling_height  floors_total  living_area  floor  is_apartment  ...  \\\n",
            "19540             2.8            25        409.7     25         False  ...   \n",
            "12859             3.9             4        322.3      4         False  ...   \n",
            "3117              2.7             5          NaN      5         False  ...   \n",
            "15651             3.4             7        258.0      5         False  ...   \n",
            "5358              3.5             6        409.0      3         False  ...   \n",
            "\n",
            "       balcony    locality_name  airports_nearest  cityCenters_nearest  \\\n",
            "19540        0  Санкт-Петербург           30706.0               7877.0   \n",
            "12859        1  Санкт-Петербург           25707.0               4972.0   \n",
            "3117         0  Санкт-Петербург           25707.0               4972.0   \n",
            "15651        0  Санкт-Петербург           32440.0               5297.0   \n",
            "5358         0  Санкт-Петербург           24447.0               4666.0   \n",
            "\n",
            "      parks_around3000  parks_nearest  ponds_around3000  ponds_nearest  \\\n",
            "19540                0          460.0                 2          318.0   \n",
            "12859                0          460.0                 2          210.0   \n",
            "3117                 0          460.0                 2          210.0   \n",
            "15651                0          460.0                 2          198.0   \n",
            "5358                 1          767.0                 0          503.0   \n",
            "\n",
            "       days_exposition            place  \n",
            "19540              106  Санкт-Петербург  \n",
            "12859               -1  Санкт-Петербург  \n",
            "3117                -1  Санкт-Петербург  \n",
            "15651              111  Санкт-Петербург  \n",
            "5358                14  Санкт-Петербург  \n",
            "\n",
            "[5 rows x 23 columns]\n"
          ]
        }
      ],
      "source": [
        "print(data.sort_values('total_area', ascending=False).head())"
      ]
    },
    {
      "cell_type": "markdown",
      "metadata": {
        "id": "BGQ2zZM2tZ2E"
      },
      "source": [
        "Судя по другим параметрам (например, цена), это не обязательно неверно заполненные данные, однако в дальнейшем анализе выбросы могут затруднить поиск зависимости.  "
      ]
    },
    {
      "cell_type": "code",
      "execution_count": null,
      "metadata": {
        "id": "15E0MoQLtwP7",
        "trusted": true
      },
      "outputs": [],
      "source": [
        "data = non_outliers(data, 'total_area')"
      ]
    },
    {
      "cell_type": "code",
      "execution_count": null,
      "metadata": {
        "colab": {
          "base_uri": "https://localhost:8080/",
          "height": 282
        },
        "id": "PkBM2jSSxZo4",
        "outputId": "d21ad2e4-ecf8-44a3-ca3a-b610c78c9f51",
        "trusted": true
      },
      "outputs": [
        {
          "output_type": "execute_result",
          "data": {
            "text/plain": [
              "<matplotlib.axes._subplots.AxesSubplot at 0x7f376a1f26d0>"
            ]
          },
          "metadata": {},
          "execution_count": 48
        },
        {
          "output_type": "display_data",
          "data": {
            "text/plain": [
              "<Figure size 432x288 with 1 Axes>"
            ],
            "image/png": "[encoded data removed]"
          },
          "metadata": {
            "needs_background": "light"
          }
        }
      ],
      "source": [
        "#еще раз посмотрим на гистограмму\n",
        "data['total_area'].hist(bins=100)"
      ]
    },
    {
      "cell_type": "code",
      "execution_count": null,
      "metadata": {
        "colab": {
          "base_uri": "https://localhost:8080/",
          "height": 879
        },
        "id": "bxi_Z3rVt4yp",
        "outputId": "5d547e2a-18b1-4ee4-f65a-1c618e278c09",
        "trusted": true
      },
      "outputs": [
        {
          "output_type": "display_data",
          "data": {
            "text/plain": [
              "<Figure size 720x1080 with 20 Axes>"
            ],
            "image/png": "[encoded data removed]"
          },
          "metadata": {
            "needs_background": "light"
          }
        }
      ],
      "source": [
        "data.hist(figsize=(10,15));"
      ]
    },
    {
      "cell_type": "markdown",
      "metadata": {
        "id": "qcsM8EsNr7OL"
      },
      "source": [
        "Следующий параметр - высота потолков."
      ]
    },
    {
      "cell_type": "code",
      "execution_count": null,
      "metadata": {
        "colab": {
          "base_uri": "https://localhost:8080/"
        },
        "id": "FKHIfil_xw-B",
        "outputId": "e321c80b-ffab-422c-ac67-6a2c6a434030",
        "trusted": true
      },
      "outputs": [
        {
          "output_type": "stream",
          "name": "stdout",
          "text": [
            "count    23604.000000\n",
            "mean         2.732684\n",
            "std          1.003661\n",
            "min          1.000000\n",
            "25%          2.550000\n",
            "50%          2.700000\n",
            "75%          2.700000\n",
            "max        100.000000\n",
            "Name: ceiling_height, dtype: float64\n"
          ]
        }
      ],
      "source": [
        "print(data['ceiling_height'].describe())"
      ]
    },
    {
      "cell_type": "code",
      "execution_count": null,
      "metadata": {
        "colab": {
          "base_uri": "https://localhost:8080/"
        },
        "id": "BYcw28KMx2Yx",
        "outputId": "fe75ff61-3024-4d78-9673-6bdec26cd104",
        "trusted": true
      },
      "outputs": [
        {
          "output_type": "stream",
          "name": "stdout",
          "text": [
            "22869    100.0\n",
            "22336     32.0\n",
            "3148      32.0\n",
            "21377     27.5\n",
            "5246      27.0\n",
            "21824     27.0\n",
            "4876      27.0\n",
            "10773     27.0\n",
            "2158      27.0\n",
            "5807      27.0\n",
            "20478     27.0\n",
            "22938     27.0\n",
            "17857     27.0\n",
            "5669      26.0\n",
            "14382     25.0\n",
            "4643      25.0\n",
            "11285     25.0\n",
            "355       25.0\n",
            "6246      25.0\n",
            "9379      25.0\n",
            "Name: ceiling_height, dtype: float64\n"
          ]
        }
      ],
      "source": [
        "print(data.sort_values('ceiling_height', ascending=False)['ceiling_height'].head(20))"
      ]
    },
    {
      "cell_type": "code",
      "execution_count": null,
      "metadata": {
        "id": "-3Il-GY7y4by",
        "trusted": true
      },
      "outputs": [],
      "source": [
        "data.reset_index(drop=True, inplace=True)"
      ]
    },
    {
      "cell_type": "code",
      "execution_count": null,
      "metadata": {
        "colab": {
          "base_uri": "https://localhost:8080/"
        },
        "id": "vqnmb8eMyOOZ",
        "outputId": "eecc0fcb-48c0-468c-bf3e-7dcd9fe77e70",
        "trusted": true
      },
      "outputs": [
        {
          "output_type": "stream",
          "name": "stderr",
          "text": [
            "<ipython-input-53-0e0c8204a65c>:3: SettingWithCopyWarning: \n",
            "A value is trying to be set on a copy of a slice from a DataFrame\n",
            "\n",
            "See the caveats in the documentation: https://pandas.pydata.org/pandas-docs/stable/user_guide/indexing.html#returning-a-view-versus-a-copy\n",
            "  data['ceiling_height'][i] = data['ceiling_height'][i]/10\n"
          ]
        }
      ],
      "source": [
        "for i in range(data.shape[0]):\n",
        "    if data['ceiling_height'][i]>15:\n",
        "        data['ceiling_height'][i] = data['ceiling_height'][i]/10"
      ]
    },
    {
      "cell_type": "code",
      "execution_count": null,
      "metadata": {
        "colab": {
          "base_uri": "https://localhost:8080/"
        },
        "id": "uV24RAYB0GHc",
        "outputId": "9a71913e-dcf0-4ef9-e0c0-27ba05ff7e8f",
        "trusted": true
      },
      "outputs": [
        {
          "output_type": "stream",
          "name": "stdout",
          "text": [
            "       total_images  last_price  total_area first_day_exposition  rooms  \\\n",
            "15061            19   5600000.0        56.4           2018-05-11      2   \n",
            "22309            20   5300000.0        45.0           2017-09-30      1   \n",
            "22869             0  15000000.0        25.0           2018-07-25      1   \n",
            "5863             20   5650000.0        45.0           2018-08-15      1   \n",
            "15743            14   5600000.0        67.0           2016-11-11      3   \n",
            "\n",
            "       ceiling_height  floors_total  living_area  floor  is_apartment  ...  \\\n",
            "15061            14.0            14         32.4      5         False  ...   \n",
            "22309            10.3            16         15.5     15         False  ...   \n",
            "22869            10.0             5         14.0      5          True  ...   \n",
            "5863              8.3            16         19.3     14         False  ...   \n",
            "15743             8.0            16         41.0      1         False  ...   \n",
            "\n",
            "       balcony    locality_name  airports_nearest  cityCenters_nearest  \\\n",
            "15061        2  Санкт-Петербург           14814.0              13610.0   \n",
            "22309        0  Санкт-Петербург           36353.0              11936.0   \n",
            "22869        5  Санкт-Петербург           34963.0               8283.0   \n",
            "5863         1  Санкт-Петербург           13069.0              10763.0   \n",
            "15743        0  Санкт-Петербург           32691.0              11035.0   \n",
            "\n",
            "      parks_around3000  parks_nearest  ponds_around3000  ponds_nearest  \\\n",
            "15061                0          460.0                 0          503.0   \n",
            "22309                2          440.0                 2          450.0   \n",
            "22869                1          223.0                 3           30.0   \n",
            "5863                 0          460.0                 1          613.0   \n",
            "15743                1          723.0                 0          503.0   \n",
            "\n",
            "       days_exposition            place  \n",
            "15061              315  Санкт-Петербург  \n",
            "22309              136  Санкт-Петербург  \n",
            "22869               19  Санкт-Петербург  \n",
            "5863                14  Санкт-Петербург  \n",
            "15743              474  Санкт-Петербург  \n",
            "\n",
            "[5 rows x 23 columns]\n"
          ]
        }
      ],
      "source": [
        "print(data.sort_values('ceiling_height', ascending=False).head())"
      ]
    },
    {
      "cell_type": "code",
      "execution_count": null,
      "metadata": {
        "id": "xMyYU17B1TGQ",
        "trusted": true
      },
      "outputs": [],
      "source": [
        "data=data[data['ceiling_height']<5]"
      ]
    },
    {
      "cell_type": "markdown",
      "metadata": {
        "id": "g1DYSqpfzo0z"
      },
      "source": [
        "Убрали часть неверно введенных значений."
      ]
    },
    {
      "cell_type": "markdown",
      "metadata": {
        "id": "x-sqVDTy08K4"
      },
      "source": [
        "Аналогично предыдущим случаям удалим часть с аномально большими площадями кухни. "
      ]
    },
    {
      "cell_type": "code",
      "execution_count": null,
      "metadata": {
        "colab": {
          "base_uri": "https://localhost:8080/"
        },
        "id": "v1RK9TeK0xmH",
        "outputId": "e612dfe5-2864-4c19-a756-f27fcf89937c",
        "trusted": true
      },
      "outputs": [
        {
          "output_type": "stream",
          "name": "stdout",
          "text": [
            "count    21343.000000\n",
            "mean        10.573909\n",
            "std          5.899860\n",
            "min          1.300000\n",
            "25%          7.000000\n",
            "50%          9.180000\n",
            "75%         12.000000\n",
            "max        112.000000\n",
            "Name: kitchen_area, dtype: float64\n"
          ]
        }
      ],
      "source": [
        "print(data['kitchen_area'].describe())"
      ]
    },
    {
      "cell_type": "code",
      "execution_count": null,
      "metadata": {
        "colab": {
          "base_uri": "https://localhost:8080/",
          "height": 282
        },
        "id": "ouUj2Tn90mOf",
        "outputId": "5098f334-e330-4f06-863a-361ab23ab3f4",
        "trusted": true
      },
      "outputs": [
        {
          "output_type": "execute_result",
          "data": {
            "text/plain": [
              "<matplotlib.axes._subplots.AxesSubplot at 0x7f3769bfcd30>"
            ]
          },
          "metadata": {},
          "execution_count": 57
        },
        {
          "output_type": "display_data",
          "data": {
            "text/plain": [
              "<Figure size 432x288 with 1 Axes>"
            ],
            "image/png": "[encoded data removed]"
          },
          "metadata": {
            "needs_background": "light"
          }
        }
      ],
      "source": [
        "data['kitchen_area'].hist()"
      ]
    },
    {
      "cell_type": "code",
      "execution_count": null,
      "metadata": {
        "id": "MPNQtBYZ0rkH",
        "trusted": true
      },
      "outputs": [],
      "source": [
        "data = non_outliers(data, 'kitchen_area')\n",
        "data.reset_index(drop=True, inplace=True)"
      ]
    },
    {
      "cell_type": "code",
      "execution_count": null,
      "metadata": {
        "colab": {
          "base_uri": "https://localhost:8080/",
          "height": 282
        },
        "id": "kK-xGk6f02Qg",
        "outputId": "64210741-8003-48ed-c4f7-60dfdb759f51",
        "trusted": true
      },
      "outputs": [
        {
          "output_type": "execute_result",
          "data": {
            "text/plain": [
              "<matplotlib.axes._subplots.AxesSubplot at 0x7f376962d4f0>"
            ]
          },
          "metadata": {},
          "execution_count": 60
        },
        {
          "output_type": "display_data",
          "data": {
            "text/plain": [
              "<Figure size 432x288 with 1 Axes>"
            ],
            "image/png": "[encoded data removed]"
          },
          "metadata": {
            "needs_background": "light"
          }
        }
      ],
      "source": [
        "data['kitchen_area'].hist()"
      ]
    },
    {
      "cell_type": "code",
      "execution_count": null,
      "metadata": {
        "colab": {
          "base_uri": "https://localhost:8080/",
          "height": 879
        },
        "id": "gR8VCxLy2FN3",
        "outputId": "003cf775-75f1-4b15-be74-550d6876f7f8",
        "trusted": true
      },
      "outputs": [
        {
          "output_type": "display_data",
          "data": {
            "text/plain": [
              "<Figure size 720x1080 with 20 Axes>"
            ],
            "image/png": "[encoded data removed]"
          },
          "metadata": {
            "needs_background": "light"
          }
        }
      ],
      "source": [
        "data.hist(figsize=(10,15));"
      ]
    },
    {
      "cell_type": "markdown",
      "source": [
        "Исходные данные значительно неоднородны, так как охватывают предложения с огромной области. Представлены разные типы домов со значительно различающимися планировками, что затруднит дальнейший анализ влияния конкретных факторов ценообразования.\n",
        "\n",
        "Для дальнейшего упрощения предобработки данных следует ввести границы \"разумных\" значений, чтобы пользователь избежал опечаток (как в случае с высотой потолков). Часть данных можно восстановить по адресу (невозможно в условиях данной задачи, так как дан только город, но возможно в теории, с помощью карт). Возможно, стоит собрать данные о том, как отличается время продажи квартиры с разным числом входных данных."
      ],
      "metadata": {
        "id": "W3iSynf8fUVT"
      }
    },
    {
      "cell_type": "markdown",
      "metadata": {
        "id": "qS4iJUK6s8t7"
      },
      "source": [
        "### Посчитайте и добавьте в таблицу новые столбцы"
      ]
    },
    {
      "cell_type": "markdown",
      "metadata": {
        "id": "273_LVz7b7Du"
      },
      "source": [
        "Добавим некоторые новые столбцы в таблицу."
      ]
    },
    {
      "cell_type": "code",
      "execution_count": null,
      "metadata": {
        "colab": {
          "base_uri": "https://localhost:8080/"
        },
        "id": "H8vR9OQgcCkm",
        "outputId": "e23cfb75-1443-4684-808d-ca66a062b559",
        "trusted": true
      },
      "outputs": [
        {
          "output_type": "stream",
          "name": "stdout",
          "text": [
            "count    2.134300e+04\n",
            "mean     9.941572e+04\n",
            "std      4.783028e+04\n",
            "min      1.118349e+02\n",
            "25%      7.700575e+04\n",
            "50%      9.504132e+04\n",
            "75%      1.140351e+05\n",
            "max      1.736842e+06\n",
            "Name: one_m_price, dtype: float64\n"
          ]
        },
        {
          "output_type": "stream",
          "name": "stderr",
          "text": [
            "<ipython-input-62-7c2510295d9e>:2: SettingWithCopyWarning: \n",
            "A value is trying to be set on a copy of a slice from a DataFrame.\n",
            "Try using .loc[row_indexer,col_indexer] = value instead\n",
            "\n",
            "See the caveats in the documentation: https://pandas.pydata.org/pandas-docs/stable/user_guide/indexing.html#returning-a-view-versus-a-copy\n",
            "  data['one_m_price'] = data['last_price']/data['total_area']\n"
          ]
        }
      ],
      "source": [
        "#посчитаем цену и проверим реалистичность получившихся значений\n",
        "data['one_m_price'] = data['last_price']/data['total_area']\n",
        "print(data['one_m_price'].describe())"
      ]
    },
    {
      "cell_type": "code",
      "execution_count": null,
      "metadata": {
        "id": "-lm3Q9kss8t-",
        "trusted": true,
        "colab": {
          "base_uri": "https://localhost:8080/"
        },
        "outputId": "67074f62-d26c-4d61-90f4-e32df4c9bfea"
      },
      "outputs": [
        {
          "output_type": "stream",
          "name": "stderr",
          "text": [
            "<ipython-input-63-00de91ac538c>:2: SettingWithCopyWarning: \n",
            "A value is trying to be set on a copy of a slice from a DataFrame.\n",
            "Try using .loc[row_indexer,col_indexer] = value instead\n",
            "\n",
            "See the caveats in the documentation: https://pandas.pydata.org/pandas-docs/stable/user_guide/indexing.html#returning-a-view-versus-a-copy\n",
            "  data['weekday'] = data['first_day_exposition'].dt.weekday\n"
          ]
        }
      ],
      "source": [
        "#введем столбец с днями недели\n",
        "data['weekday'] = data['first_day_exposition'].dt.weekday"
      ]
    },
    {
      "cell_type": "code",
      "execution_count": null,
      "metadata": {
        "colab": {
          "base_uri": "https://localhost:8080/"
        },
        "id": "kmTOCj6vdd9H",
        "outputId": "42cdfd5c-094b-4c38-aeb5-435048e0014a",
        "trusted": true
      },
      "outputs": [
        {
          "output_type": "stream",
          "name": "stdout",
          "text": [
            "   total_images  last_price  total_area first_day_exposition  rooms  \\\n",
            "0            20  13000000.0       108.0           2019-03-07      3   \n",
            "1             7   3350000.0        40.4           2018-12-04      1   \n",
            "2            10   5196000.0        56.0           2015-08-20      2   \n",
            "3             2  10000000.0       100.0           2018-06-19      2   \n",
            "4            10   2890000.0        30.4           2018-09-10      1   \n",
            "\n",
            "   ceiling_height  floors_total  living_area  floor  is_apartment  ...  \\\n",
            "0            2.70            16         51.0      8         False  ...   \n",
            "1            2.63            11         18.6      1         False  ...   \n",
            "2            2.70             5         34.3      4         False  ...   \n",
            "3            3.03            14         32.0     13         False  ...   \n",
            "4            2.65            12         14.4      5         False  ...   \n",
            "\n",
            "   parks_around3000  parks_nearest  ponds_around3000  ponds_nearest  \\\n",
            "0                 1          482.0                 2          755.0   \n",
            "1                 0            NaN                 0          584.5   \n",
            "2                 1           90.0                 2          574.0   \n",
            "3                 2          112.0                 1           48.0   \n",
            "4                -1            NaN                -1            NaN   \n",
            "\n",
            "  days_exposition            place    one_m_price  weekday  month  year  \n",
            "0              -1  Санкт-Петербург  120370.370370        3      3  2019  \n",
            "1              81           Шушары   82920.792079        1     12  2018  \n",
            "2             558  Санкт-Петербург   92785.714286        3      8  2015  \n",
            "3             121  Санкт-Петербург  100000.000000        1      6  2018  \n",
            "4              55          Янино-1   95065.789474        0      9  2018  \n",
            "\n",
            "[5 rows x 27 columns]\n"
          ]
        },
        {
          "output_type": "stream",
          "name": "stderr",
          "text": [
            "<ipython-input-64-fbe4edb90d21>:2: SettingWithCopyWarning: \n",
            "A value is trying to be set on a copy of a slice from a DataFrame.\n",
            "Try using .loc[row_indexer,col_indexer] = value instead\n",
            "\n",
            "See the caveats in the documentation: https://pandas.pydata.org/pandas-docs/stable/user_guide/indexing.html#returning-a-view-versus-a-copy\n",
            "  data['month'] = data['first_day_exposition'].dt.month\n",
            "<ipython-input-64-fbe4edb90d21>:3: SettingWithCopyWarning: \n",
            "A value is trying to be set on a copy of a slice from a DataFrame.\n",
            "Try using .loc[row_indexer,col_indexer] = value instead\n",
            "\n",
            "See the caveats in the documentation: https://pandas.pydata.org/pandas-docs/stable/user_guide/indexing.html#returning-a-view-versus-a-copy\n",
            "  data['year'] = data['first_day_exposition'].dt.year\n"
          ]
        }
      ],
      "source": [
        "#введем столбцы с месяцем и годом публикации объявления\n",
        "data['month'] = data['first_day_exposition'].dt.month\n",
        "data['year'] = data['first_day_exposition'].dt.year\n",
        "print(data.head())"
      ]
    },
    {
      "cell_type": "code",
      "execution_count": null,
      "metadata": {
        "id": "hzhp6dYPhYN5",
        "trusted": true,
        "colab": {
          "base_uri": "https://localhost:8080/"
        },
        "outputId": "8a0cb23f-39de-4acb-e684-152457d85e6f"
      },
      "outputs": [
        {
          "output_type": "stream",
          "name": "stderr",
          "text": [
            "<ipython-input-65-717bc25342e3>:12: SettingWithCopyWarning: \n",
            "A value is trying to be set on a copy of a slice from a DataFrame.\n",
            "Try using .loc[row_indexer,col_indexer] = value instead\n",
            "\n",
            "See the caveats in the documentation: https://pandas.pydata.org/pandas-docs/stable/user_guide/indexing.html#returning-a-view-versus-a-copy\n",
            "  data['floor_type'] = data.apply(lambda x: floor_type(x['floor'],x['floors_total']), axis=1)\n"
          ]
        }
      ],
      "source": [
        "#определим тип этажа квартиры по категориям первый/последний/другой: \n",
        "#функция принимает 2 числа - этаж, на котором находится квартира\n",
        "#и общее число этажей в доме\n",
        "def floor_type(floor, total):\n",
        "    if floor == 1:\n",
        "        return 'первый'\n",
        "    elif floor==total:\n",
        "        return 'последний'\n",
        "    else:\n",
        "        return 'другой'\n",
        "\n",
        "data['floor_type'] = data.apply(lambda x: floor_type(x['floor'],x['floors_total']), axis=1)"
      ]
    },
    {
      "cell_type": "code",
      "execution_count": null,
      "metadata": {
        "colab": {
          "base_uri": "https://localhost:8080/"
        },
        "id": "jFobvY5iiXQs",
        "outputId": "99e41581-67b0-48d6-e8a0-6da7b9aab9fd",
        "trusted": true
      },
      "outputs": [
        {
          "output_type": "stream",
          "name": "stdout",
          "text": [
            "   total_images  last_price  total_area first_day_exposition  rooms  \\\n",
            "0            20  13000000.0      108.00           2019-03-07      3   \n",
            "1             7   3350000.0       40.40           2018-12-04      1   \n",
            "2            10   5196000.0       56.00           2015-08-20      2   \n",
            "3             2  10000000.0      100.00           2018-06-19      2   \n",
            "4            10   2890000.0       30.40           2018-09-10      1   \n",
            "5             6   3700000.0       37.30           2017-11-02      1   \n",
            "6             5   7915000.0       71.60           2019-04-18      2   \n",
            "7            20   2900000.0       33.16           2018-05-23      1   \n",
            "8            18   5400000.0       61.00           2017-02-26      3   \n",
            "9             5   5050000.0       39.60           2017-11-16      1   \n",
            "\n",
            "   ceiling_height  floors_total  living_area  floor  is_apartment  ...  \\\n",
            "0            2.70            16        51.00      8         False  ...   \n",
            "1            2.63            11        18.60      1         False  ...   \n",
            "2            2.70             5        34.30      4         False  ...   \n",
            "3            3.03            14        32.00     13         False  ...   \n",
            "4            2.65            12        14.40      5         False  ...   \n",
            "5            2.64            26        10.60      6         False  ...   \n",
            "6            2.70            24          NaN     22         False  ...   \n",
            "7            2.70            27        15.43     26         False  ...   \n",
            "8            2.50             9        43.60      7         False  ...   \n",
            "9            2.67            12        20.30      3         False  ...   \n",
            "\n",
            "   parks_nearest  ponds_around3000  ponds_nearest  days_exposition  \\\n",
            "0          482.0                 2          755.0               -1   \n",
            "1            NaN                 0          584.5               81   \n",
            "2           90.0                 2          574.0              558   \n",
            "3          112.0                 1           48.0              121   \n",
            "4            NaN                -1            NaN               55   \n",
            "5          733.0                 0          593.0              155   \n",
            "6          460.0                 0          503.0               -1   \n",
            "7            NaN                 2          133.0              189   \n",
            "8          460.0                 0          503.0              289   \n",
            "9          310.0                 2          553.0              137   \n",
            "\n",
            "             place    one_m_price  weekday  month  year  floor_type  \n",
            "0  Санкт-Петербург  120370.370370        3      3  2019      другой  \n",
            "1           Шушары   82920.792079        1     12  2018      первый  \n",
            "2  Санкт-Петербург   92785.714286        3      8  2015      другой  \n",
            "3  Санкт-Петербург  100000.000000        1      6  2018      другой  \n",
            "4          Янино-1   95065.789474        0      9  2018      другой  \n",
            "5        Парголово   99195.710456        3     11  2017      другой  \n",
            "6  Санкт-Петербург  110544.692737        3      4  2019      другой  \n",
            "7           Мурино   87454.764777        2      5  2018      другой  \n",
            "8  Санкт-Петербург   88524.590164        6      2  2017      другой  \n",
            "9  Санкт-Петербург  127525.252525        3     11  2017      другой  \n",
            "\n",
            "[10 rows x 28 columns]\n"
          ]
        }
      ],
      "source": [
        "#проверим корректность этого шага\n",
        "print(data.head(10))"
      ]
    },
    {
      "cell_type": "code",
      "execution_count": null,
      "metadata": {
        "colab": {
          "base_uri": "https://localhost:8080/"
        },
        "id": "s4IWwHC2i_LU",
        "outputId": "264cf78a-45f0-46fc-83b0-2a386c53fe41",
        "trusted": true
      },
      "outputs": [
        {
          "output_type": "stream",
          "name": "stdout",
          "text": [
            "0    16\n",
            "1    18\n",
            "2    13\n",
            "3     8\n",
            "4    -1\n",
            "Name: cent_dist, dtype: int64\n"
          ]
        },
        {
          "output_type": "stream",
          "name": "stderr",
          "text": [
            "<ipython-input-67-7aae9112ac67>:2: SettingWithCopyWarning: \n",
            "A value is trying to be set on a copy of a slice from a DataFrame.\n",
            "Try using .loc[row_indexer,col_indexer] = value instead\n",
            "\n",
            "See the caveats in the documentation: https://pandas.pydata.org/pandas-docs/stable/user_guide/indexing.html#returning-a-view-versus-a-copy\n",
            "  data['cent_dist'] = (data['cityCenters_nearest']/1000)\n",
            "/usr/local/lib/python3.8/dist-packages/pandas/core/generic.py:6392: SettingWithCopyWarning: \n",
            "A value is trying to be set on a copy of a slice from a DataFrame\n",
            "\n",
            "See the caveats in the documentation: https://pandas.pydata.org/pandas-docs/stable/user_guide/indexing.html#returning-a-view-versus-a-copy\n",
            "  return self._update_inplace(result)\n",
            "<ipython-input-67-7aae9112ac67>:4: SettingWithCopyWarning: \n",
            "A value is trying to be set on a copy of a slice from a DataFrame.\n",
            "Try using .loc[row_indexer,col_indexer] = value instead\n",
            "\n",
            "See the caveats in the documentation: https://pandas.pydata.org/pandas-docs/stable/user_guide/indexing.html#returning-a-view-versus-a-copy\n",
            "  data['cent_dist'] = data['cent_dist'].astype('int64')\n"
          ]
        }
      ],
      "source": [
        "#пересчитаем расстояние до центра города в км \n",
        "data['cent_dist'] = (data['cityCenters_nearest']/1000)\n",
        "data['cent_dist'].fillna(-1.0, inplace=True)\n",
        "data['cent_dist'] = data['cent_dist'].astype('int64')\n",
        "print(data['cent_dist'].head())"
      ]
    },
    {
      "cell_type": "code",
      "execution_count": null,
      "metadata": {
        "colab": {
          "base_uri": "https://localhost:8080/",
          "height": 282
        },
        "id": "W3m3NNpZkyks",
        "outputId": "6f29ee54-d63e-4b13-c780-a7436dcd31f6",
        "trusted": true
      },
      "outputs": [
        {
          "output_type": "execute_result",
          "data": {
            "text/plain": [
              "<matplotlib.axes._subplots.AxesSubplot at 0x7f376969f610>"
            ]
          },
          "metadata": {},
          "execution_count": 68
        },
        {
          "output_type": "display_data",
          "data": {
            "text/plain": [
              "<Figure size 432x288 with 1 Axes>"
            ],
            "image/png": "[encoded data removed]"
          },
          "metadata": {
            "needs_background": "light"
          }
        }
      ],
      "source": [
        "#посмотрим на распределение полученных данных\n",
        "data['cent_dist'].hist()"
      ]
    },
    {
      "cell_type": "markdown",
      "metadata": {
        "id": "xAYYEoews8uA"
      },
      "source": [
        "### Проведите исследовательский анализ данных"
      ]
    },
    {
      "cell_type": "markdown",
      "metadata": {
        "id": "--cG6BJNj1Wp"
      },
      "source": [
        "Построим гистограммы числовых параметров."
      ]
    },
    {
      "cell_type": "code",
      "execution_count": null,
      "metadata": {
        "colab": {
          "base_uri": "https://localhost:8080/",
          "height": 1000
        },
        "id": "6TVHxVqOkv7Q",
        "outputId": "e4e8c112-3b7e-4642-9d3e-178cec6d7d31",
        "scrolled": false,
        "trusted": true
      },
      "outputs": [
        {
          "output_type": "display_data",
          "data": {
            "text/plain": [
              "<Figure size 360x360 with 1 Axes>"
            ],
            "image/png": "[encoded data removed]"
          },
          "metadata": {
            "needs_background": "light"
          }
        },
        {
          "output_type": "display_data",
          "data": {
            "text/plain": [
              "<Figure size 360x360 with 1 Axes>"
            ],
            "image/png": "[encoded data removed]"
          },
          "metadata": {
            "needs_background": "light"
          }
        },
        {
          "output_type": "display_data",
          "data": {
            "text/plain": [
              "<Figure size 360x360 with 1 Axes>"
            ],
            "image/png": "[encoded data removed]"
          },
          "metadata": {
            "needs_background": "light"
          }
        },
        {
          "output_type": "display_data",
          "data": {
            "text/plain": [
              "<Figure size 360x360 with 1 Axes>"
            ],
            "image/png": "[encoded data removed]"
          },
          "metadata": {
            "needs_background": "light"
          }
        },
        {
          "output_type": "display_data",
          "data": {
            "text/plain": [
              "<Figure size 360x360 with 1 Axes>"
            ],
            "image/png": "[encoded data removed]"
          },
          "metadata": {
            "needs_background": "light"
          }
        },
        {
          "output_type": "display_data",
          "data": {
            "text/plain": [
              "<Figure size 360x360 with 1 Axes>"
            ],
            "image/png": "[encoded data removed]"
          },
          "metadata": {
            "needs_background": "light"
          }
        },
        {
          "output_type": "display_data",
          "data": {
            "text/plain": [
              "<Figure size 360x360 with 1 Axes>"
            ],
            "image/png": "[encoded data removed]"
          },
          "metadata": {
            "needs_background": "light"
          }
        },
        {
          "output_type": "display_data",
          "data": {
            "text/plain": [
              "<Figure size 360x360 with 1 Axes>"
            ],
            "image/png": "[encoded data removed]"
          },
          "metadata": {
            "needs_background": "light"
          }
        },
        {
          "output_type": "display_data",
          "data": {
            "text/plain": [
              "<Figure size 360x360 with 1 Axes>"
            ],
            "image/png": "[encoded data removed]"
          },
          "metadata": {
            "needs_background": "light"
          }
        },
        {
          "output_type": "display_data",
          "data": {
            "text/plain": [
              "<Figure size 360x360 with 1 Axes>"
            ],
            "image/png": "[encoded data removed]"
          },
          "metadata": {
            "needs_background": "light"
          }
        },
        {
          "output_type": "display_data",
          "data": {
            "text/plain": [
              "<Figure size 360x360 with 1 Axes>"
            ],
            "image/png": "[encoded data removed]"
          },
          "metadata": {
            "needs_background": "light"
          }
        },
        {
          "output_type": "display_data",
          "data": {
            "text/plain": [
              "<Figure size 360x360 with 1 Axes>"
            ],
            "image/png": "[encoded data removed]"
          },
          "metadata": {
            "needs_background": "light"
          }
        }
      ],
      "source": [
        "#перечислим параметры, для которых будем строить гистограммы\n",
        "par = ['total_area', 'living_area', 'kitchen_area', 'last_price', 'rooms', 'ceiling_height', 'floors_total', 'cityCenters_nearest', 'airports_nearest', 'parks_nearest', 'weekday',\n",
        "       'month']\n",
        "\n",
        "for i in par:\n",
        "    data.loc[data[i]>=0].plot(y=i, kind='hist', title=i, figsize=(5,5), bins=20)\n",
        "\n"
      ]
    },
    {
      "cell_type": "code",
      "execution_count": null,
      "metadata": {
        "colab": {
          "base_uri": "https://localhost:8080/",
          "height": 282
        },
        "id": "dPf4IXjrocpF",
        "outputId": "3231540f-203f-4693-c206-ffe305d39feb",
        "trusted": true
      },
      "outputs": [
        {
          "output_type": "execute_result",
          "data": {
            "text/plain": [
              "<BarContainer object of 3 artists>"
            ]
          },
          "metadata": {},
          "execution_count": 70
        },
        {
          "output_type": "display_data",
          "data": {
            "text/plain": [
              "<Figure size 432x288 with 1 Axes>"
            ],
            "image/png": "[encoded data removed]"
          },
          "metadata": {
            "needs_background": "light"
          }
        }
      ],
      "source": [
        "label = data['floor_type'].unique()\n",
        "values = list(map(lambda x: data.loc[data['floor_type']==x]['floor_type'].count(), label))\n",
        "\n",
        "plt.bar(label, values, color ='lightslategray')\n"
      ]
    },
    {
      "cell_type": "markdown",
      "metadata": {
        "id": "Y46NFqXismVc"
      },
      "source": [
        "Из представленных гистограмм можем заключить, что данные не подвержены нормальному распределению и имеют \"хвост\" из дорогих больших квартир. Выделяются пики, по-видимому, характерные для квартир с разным числом комнат. Высота потолков имеет наименьшую вариативность из представленных параметров. Наибольшую - расстояние до аэропорта. \n",
        "\n",
        "В летние месяцы публикуется меньше объявлений, чем в зимние. "
      ]
    },
    {
      "cell_type": "markdown",
      "metadata": {
        "id": "4vAUSflTt0zS"
      },
      "source": [
        "Рассмотрим, сколько времени объявление о продаже квартиры находится на сайте."
      ]
    },
    {
      "cell_type": "code",
      "execution_count": null,
      "metadata": {
        "colab": {
          "base_uri": "https://localhost:8080/"
        },
        "id": "weufsJ66uB5L",
        "outputId": "2ab5cf0b-5e83-4b50-ab62-f11f68abec10",
        "trusted": true
      },
      "outputs": [
        {
          "output_type": "stream",
          "name": "stdout",
          "text": [
            "Среднее время нахождения объявления на сайте, дн.: 186.0\n",
            "Медианное время нахождения объявления на сайте, дн: 102.0\n"
          ]
        }
      ],
      "source": [
        "print('Среднее время нахождения объявления на сайте, дн.:', data.loc[data['days_exposition']>=0]['days_exposition'].mean().round(),)\n",
        "print('Медианное время нахождения объявления на сайте, дн:', data.loc[data['days_exposition']>=0]['days_exposition'].median())"
      ]
    },
    {
      "cell_type": "code",
      "execution_count": null,
      "metadata": {
        "colab": {
          "base_uri": "https://localhost:8080/",
          "height": 282
        },
        "id": "opXEFtaJsA3E",
        "outputId": "e8e7efc7-d4f4-4ecd-c7c7-cf55b6b27083",
        "trusted": true
      },
      "outputs": [
        {
          "output_type": "execute_result",
          "data": {
            "text/plain": [
              "<matplotlib.axes._subplots.AxesSubplot at 0x7f37692a91f0>"
            ]
          },
          "metadata": {},
          "execution_count": 72
        },
        {
          "output_type": "display_data",
          "data": {
            "text/plain": [
              "<Figure size 432x288 with 1 Axes>"
            ],
            "image/png": "[encoded data removed]"
          },
          "metadata": {
            "needs_background": "light"
          }
        }
      ],
      "source": [
        "data.loc[data['days_exposition']>=0]['days_exposition'].hist(bins=20)"
      ]
    },
    {
      "cell_type": "markdown",
      "metadata": {
        "id": "6STok-aCuxYC"
      },
      "source": [
        "Среднее время (186 дней) почти в 2 раза превосходит медианное (102 дня), что говорит о наличии объявлений, которые \"висят\" на сайте значительное время. Это же подтверждается гистограммой.\n",
        "\n",
        "Отдельно рассмотрим, как продаются объявления до полугода и некоторые характеристики быстро и медленно продающихся квартир. "
      ]
    },
    {
      "cell_type": "markdown",
      "source": [
        "Рассмотрим, какие значения соответствуют квартилям .05 и .95."
      ],
      "metadata": {
        "id": "bhoYcGSrlfrh"
      }
    },
    {
      "cell_type": "code",
      "source": [
        "print('0.05 квантиль, дн.')\n",
        "print(data.loc[data['days_exposition']>=0]['days_exposition'].quantile(0.05))\n",
        "print()\n",
        "print('0.95 квантиль, дн.')\n",
        "print(data.loc[data['days_exposition']>=0]['days_exposition'].quantile(0.95))"
      ],
      "metadata": {
        "colab": {
          "base_uri": "https://localhost:8080/"
        },
        "id": "horaPTZGl4mj",
        "outputId": "2f7e8520-8c30-4e16-9d9c-737a029cd442"
      },
      "execution_count": null,
      "outputs": [
        {
          "output_type": "stream",
          "name": "stdout",
          "text": [
            "0.05 квантиль, дн.\n",
            "9.0\n",
            "\n",
            "0.95 квантиль, дн.\n",
            "658.0\n"
          ]
        }
      ]
    },
    {
      "cell_type": "markdown",
      "source": [
        "Мы не можем установить, почему эти \"быстрые\" продажи были такими быстрыми - либо квартира была продана, либо объявление было просто закрыто. Судьба квартир с \"долгими\" продажами также нам неизвестна. "
      ],
      "metadata": {
        "id": "ewLZOS_Rmh5x"
      }
    },
    {
      "cell_type": "code",
      "execution_count": null,
      "metadata": {
        "colab": {
          "base_uri": "https://localhost:8080/",
          "height": 282
        },
        "id": "y2g0uW_avMIr",
        "outputId": "d1615af9-4b3c-4e92-c9a6-fdf5307c79ee",
        "trusted": true
      },
      "outputs": [
        {
          "output_type": "execute_result",
          "data": {
            "text/plain": [
              "<matplotlib.axes._subplots.AxesSubplot at 0x7f3768384610>"
            ]
          },
          "metadata": {},
          "execution_count": 73
        },
        {
          "output_type": "display_data",
          "data": {
            "text/plain": [
              "<Figure size 432x288 with 1 Axes>"
            ],
            "image/png": "[encoded data removed]"
          },
          "metadata": {
            "needs_background": "light"
          }
        }
      ],
      "source": [
        "data.loc[data['days_exposition']>=0]['days_exposition'].hist(bins=20, range=(0, 180))"
      ]
    },
    {
      "cell_type": "markdown",
      "metadata": {
        "id": "xb7c004mvdzy"
      },
      "source": [
        "Рассмотрим, в каких городах квартиры продаются за месяц (будем считать 30 дней границей быстрой продажи), а в каких - больше 200 дней."
      ]
    },
    {
      "cell_type": "code",
      "execution_count": null,
      "metadata": {
        "colab": {
          "base_uri": "https://localhost:8080/"
        },
        "id": "jJRFAjmyvnla",
        "outputId": "25c37497-2969-49f0-db00-69181d43e55c",
        "trusted": true
      },
      "outputs": [
        {
          "output_type": "stream",
          "name": "stdout",
          "text": [
            "Места, где квартиры продаются быстро:\n",
            "Санкт-Петербург    641\n",
            "Мурино              26\n",
            "Кудрово             19\n",
            "Парголово           18\n",
            "Колпино             17\n",
            "Пушкин              15\n",
            "Шушары              14\n",
            "Гатчина             13\n",
            "Всеволожск           9\n",
            "Выборг               7\n",
            "Name: place, dtype: int64\n",
            "\n",
            "Всего таких: 901\n",
            "\n",
            "Места, где квартиры продаются долго:\n",
            "Санкт-Петербург    642\n",
            "Кудрово             19\n",
            "Гатчина             16\n",
            "Пушкин              15\n",
            "Мурино              15\n",
            "Всеволожск          14\n",
            "Петергоф            14\n",
            "Шушары              13\n",
            "Выборг              11\n",
            "Коммунар             9\n",
            "Name: place, dtype: int64\n",
            "\n",
            "Всего таких: 918\n"
          ]
        }
      ],
      "source": [
        "print('Места, где квартиры продаются быстро:')\n",
        "print(data.loc[(data['days_exposition']<9) & (data['days_exposition']>=0)]['place'].value_counts().head(10))\n",
        "print()\n",
        "print('Всего таких:', data.loc[(data['days_exposition']<9) & (data['days_exposition']>=0)]['place'].count())\n",
        "print()\n",
        "print('Места, где квартиры продаются долго:')\n",
        "print(data.loc[data['days_exposition']>658]['place'].value_counts().head(10))\n",
        "print()\n",
        "print('Всего таких:', data.loc[data['days_exposition']>658]['place'].count())"
      ]
    },
    {
      "cell_type": "markdown",
      "metadata": {
        "id": "0S8eLN_mwFyK"
      },
      "source": [
        "Видим, что в топе примерно одни и те же населенные пункты. Возможно, проблема в других параметрах.\n"
      ]
    },
    {
      "cell_type": "code",
      "execution_count": null,
      "metadata": {
        "colab": {
          "base_uri": "https://localhost:8080/"
        },
        "id": "OLM7d7OUwWdp",
        "outputId": "16922976-6a72-4b19-f3d6-4b0c36dfa3b8",
        "trusted": true
      },
      "outputs": [
        {
          "output_type": "stream",
          "name": "stdout",
          "text": [
            "Медианная цена квартир, которые продаются быстро:\n",
            "4400000.0\n",
            "\n",
            "Медианная цена квартир, которые продаются долго:\n",
            "5550000.0\n"
          ]
        }
      ],
      "source": [
        "print('Медианная цена квартир, которые продаются быстро:')\n",
        "print(data.loc[(data['days_exposition']<9) & (data['days_exposition']>=0)]['last_price'].median())\n",
        "print()\n",
        "print('Медианная цена квартир, которые продаются долго:')\n",
        "print(data.loc[data['days_exposition']>658]['last_price'].median())"
      ]
    },
    {
      "cell_type": "code",
      "execution_count": null,
      "metadata": {
        "colab": {
          "base_uri": "https://localhost:8080/"
        },
        "id": "zFPgWYgXxCWq",
        "outputId": "c995aa8d-f2b3-44fe-ac21-6ac16bdbeece",
        "trusted": true
      },
      "outputs": [
        {
          "output_type": "stream",
          "name": "stdout",
          "text": [
            "Медианная площадь квартир, которые продаются быстро:\n",
            "46.0\n",
            "\n",
            "Медианная площадь квартир, которые продаются долго:\n",
            "60.0\n"
          ]
        }
      ],
      "source": [
        "print('Медианная площадь квартир, которые продаются быстро:')\n",
        "print(data.loc[(data['days_exposition']<9) & (data['days_exposition']>=0)]['total_area'].median())\n",
        "print()\n",
        "print('Медианная площадь квартир, которые продаются долго:')\n",
        "print(data.loc[data['days_exposition']>658]['total_area'].median())"
      ]
    },
    {
      "cell_type": "code",
      "execution_count": null,
      "metadata": {
        "colab": {
          "base_uri": "https://localhost:8080/"
        },
        "id": "0Oz1b_GlxI2x",
        "outputId": "0fd58ec6-83d9-4885-b358-0aef3f294259",
        "trusted": true
      },
      "outputs": [
        {
          "output_type": "stream",
          "name": "stdout",
          "text": [
            "Медианное расстояние до центра квартир, которые продаются быстро:\n",
            "12.0\n",
            "\n",
            "Медианная цена квартир, которые продаются долго:\n",
            "7.0\n"
          ]
        }
      ],
      "source": [
        "print('Медианное расстояние до центра квартир, которые продаются быстро:')\n",
        "print(data.loc[(data['days_exposition']<9) & (data['days_exposition']>=0)]['cent_dist'].median())\n",
        "print()\n",
        "print('Медианное расстояние до центра квартир, которые продаются долго:')\n",
        "print(data.loc[data['days_exposition']>658]['cent_dist'].median())"
      ]
    },
    {
      "cell_type": "markdown",
      "metadata": {
        "id": "vg94BLybw_Oj"
      },
      "source": [
        "Как видим, рассмотренные параметры различаются - долго продающиеся квартиры больше, дороже, ближе к центру. Однако достаточно ли отличие, чтобы описать причины, по которым квартиры не продаются, нельзя сказать из предоставленных данных."
      ]
    },
    {
      "cell_type": "markdown",
      "metadata": {
        "id": "kG0gcH36yg5r"
      },
      "source": [
        "Далее изучим влияние различных факторов на стоимость квартиры. "
      ]
    },
    {
      "cell_type": "code",
      "execution_count": null,
      "metadata": {
        "id": "mS7nTbNT19k3",
        "trusted": true
      },
      "outputs": [],
      "source": [
        "sns.set_theme(style=\"ticks\")"
      ]
    },
    {
      "cell_type": "code",
      "execution_count": null,
      "metadata": {
        "colab": {
          "base_uri": "https://localhost:8080/",
          "height": 1000
        },
        "id": "bQcVa2k-yuKh",
        "outputId": "4b4dac56-de5e-4822-8b97-4c8042804c92",
        "trusted": true
      },
      "outputs": [
        {
          "output_type": "display_data",
          "data": {
            "text/plain": [
              "<Figure size 360x360 with 1 Axes>"
            ],
            "image/png": "[encoded data removed]"
          },
          "metadata": {}
        },
        {
          "output_type": "display_data",
          "data": {
            "text/plain": [
              "<Figure size 360x360 with 1 Axes>"
            ],
            "image/png": "[encoded data removed]"
          },
          "metadata": {}
        },
        {
          "output_type": "display_data",
          "data": {
            "text/plain": [
              "<Figure size 360x360 with 1 Axes>"
            ],
            "image/png": "[encoded data removed]"
          },
          "metadata": {}
        }
      ],
      "source": [
        "#перечислим параметры, влияние которых будем изучать\n",
        "params_float = ['living_area', 'total_area', 'kitchen_area']\n",
        "params_int = ['weekday', 'month', 'year', 'rooms']\n",
        "params_cat = 'floor_type'\n",
        "\n",
        "#нарисуем графики в соответствии с типом данных\n",
        "for i in params_float:\n",
        "    sns.relplot(x=i, y='last_price', data=data, alpha=0.15)\n"
      ]
    },
    {
      "cell_type": "code",
      "execution_count": null,
      "metadata": {
        "colab": {
          "base_uri": "https://localhost:8080/",
          "height": 1000
        },
        "id": "YSDsBmqm4E9K",
        "outputId": "7df98b44-27df-4c28-bcb4-800bb3d6bdb8",
        "trusted": true
      },
      "outputs": [
        {
          "output_type": "display_data",
          "data": {
            "text/plain": [
              "<Figure size 270x360 with 1 Axes>"
            ],
            "image/png": "[encoded data removed]"
          },
          "metadata": {}
        },
        {
          "output_type": "display_data",
          "data": {
            "text/plain": [
              "<Figure size 270x360 with 1 Axes>"
            ],
            "image/png": "[encoded data removed]"
          },
          "metadata": {}
        },
        {
          "output_type": "display_data",
          "data": {
            "text/plain": [
              "<Figure size 270x360 with 1 Axes>"
            ],
            "image/png": "[encoded data removed]"
          },
          "metadata": {}
        },
        {
          "output_type": "display_data",
          "data": {
            "text/plain": [
              "<Figure size 270x360 with 1 Axes>"
            ],
            "image/png": "[encoded data removed]"
          },
          "metadata": {}
        }
      ],
      "source": [
        "for i in params_int:\n",
        "    sns.catplot(x=i, y='last_price', data=data, kind='bar', aspect=0.75)"
      ]
    },
    {
      "cell_type": "markdown",
      "source": [
        "Видим значительно выбивающуюся квартиру с 12 комнатами, однако для квартир вне элитного сегмента зависимость явно прослеживается."
      ],
      "metadata": {
        "id": "4pYM2c6_oVzJ"
      }
    },
    {
      "cell_type": "code",
      "execution_count": null,
      "metadata": {
        "colab": {
          "base_uri": "https://localhost:8080/",
          "height": 313
        },
        "id": "tnlj35Ps5DDG",
        "outputId": "84b6fd83-886f-43e1-d64e-a262c637f82b",
        "trusted": true
      },
      "outputs": [
        {
          "output_type": "execute_result",
          "data": {
            "text/plain": [
              "<matplotlib.axes._subplots.AxesSubplot at 0x7f3768e5f250>"
            ]
          },
          "metadata": {},
          "execution_count": 89
        },
        {
          "output_type": "display_data",
          "data": {
            "text/plain": [
              "<Figure size 432x288 with 1 Axes>"
            ],
            "image/png": "[encoded data removed]"
          },
          "metadata": {}
        }
      ],
      "source": [
        "sns.stripplot(x=params_cat, y='last_price', data=data, alpha=0.2)"
      ]
    },
    {
      "cell_type": "markdown",
      "metadata": {
        "id": "DVgb5aFujnin"
      },
      "source": [
        "Проверим с помощью коэффициента корреляции Пирсона, есть ли взаимосвязь между ценой и этими параметрами."
      ]
    },
    {
      "cell_type": "code",
      "execution_count": null,
      "metadata": {
        "colab": {
          "base_uri": "https://localhost:8080/"
        },
        "id": "dy1tgDuXjzsU",
        "outputId": "58317b33-6c41-4206-d7c2-ef3440f3cde5",
        "trusted": true
      },
      "outputs": [
        {
          "output_type": "stream",
          "name": "stdout",
          "text": [
            "Корреляция между ценой квартиры и параметром living_area присутствует.\n",
            "p-value равно 0.0, коэффициент корреляции 0.6\n",
            "Корреляция между ценой квартиры и параметром total_area присутствует.\n",
            "p-value равно 0.0, коэффициент корреляции 0.7\n",
            "Корреляция между ценой квартиры и параметром kitchen_area присутствует.\n",
            "p-value равно 0.0, коэффициент корреляции 0.52\n",
            "Корреляции между параметром weekday и ценой квартиры не выявлено.\n",
            "p-value равно 0.44\n",
            "Корреляции между параметром month и ценой квартиры не выявлено.\n",
            "p-value равно 0.81\n",
            "Корреляция между ценой квартиры и параметром year присутствует.\n",
            "p-value равно 3.8e-09, коэффициент корреляции -0.04\n",
            "Корреляция между ценой квартиры и параметром rooms присутствует.\n",
            "p-value равно 0.0, коэффициент корреляции 0.39\n"
          ]
        }
      ],
      "source": [
        "\n",
        "for i in (params_float+params_int):\n",
        "    test = pearsonr(data.loc[~data[i].isna()][i],data.loc[~data[i].isna()]['last_price'])\n",
        "    if test[1]<0.05:\n",
        "        print('Корреляция между ценой квартиры и параметром', i, 'присутствует.')\n",
        "        print('p-value равно {0:.2}, коэффициент корреляции {1:.2}'.format(test[1], test[0]))\n",
        "    else:\n",
        "        print('Корреляции между параметром', i, 'и ценой квартиры не выявлено.')\n",
        "        print('p-value равно {:.2}'.format(test[1]))"
      ]
    },
    {
      "cell_type": "code",
      "execution_count": null,
      "metadata": {
        "colab": {
          "base_uri": "https://localhost:8080/"
        },
        "id": "eH4CuyqjmLgV",
        "outputId": "2d50bcbb-12fc-42fd-bff9-c3148c860f5d",
        "trusted": true
      },
      "outputs": [
        {
          "output_type": "stream",
          "name": "stdout",
          "text": [
            "У квартир с разными типами этажей (первый/последний/другой) стоимость значительно различается\n",
            "p-value равно 1.1e-20\n"
          ]
        }
      ],
      "source": [
        "stat = f_oneway(data.loc[data['floor_type']=='другой']['last_price'], data.loc[data['floor_type']=='последний']['last_price'], data.loc[data['floor_type']=='первый']['last_price'])\n",
        "if stat[1]<0.05:\n",
        "    print('У квартир с разными типами этажей (первый/последний/другой) стоимость значительно различается')\n",
        "    print('p-value равно {:.2}'.format(stat[1]))\n",
        "else:\n",
        "    print('Разницы в стоимости у квартир с разными типами этажей (первый/последний/другой) на уровне значимости 0.05 не выявлено')\n",
        "    print('p-value равно {:.2}'.format(stat[1]))"
      ]
    },
    {
      "cell_type": "markdown",
      "metadata": {
        "id": "SlDoSpM9nuaM"
      },
      "source": [
        "Таким образом, мы можем сделать следующие выводы: \n",
        "\n",
        "\n",
        "\n",
        "*   Площадь квартиры влияет на ее стоимость\n",
        "*   Общая площадь квартиры влияет на стоимость сильнее, чем жилая площадь или площадь кухни\n",
        "* День недели, в который было опубликовано объявление, не влияет на стоимость квартиры \n",
        "* Несмотря на то, что есть разница между количеством объявлений, публикуемых в разные месяцы, стоимость квартиры от числа предложений на рынке не зависит\n",
        "* Цены за период наблюдений практически не менялись (коэффициент корреляции близок к 0)\n",
        "* Чем больше в квартире комнат, тем она дороже\n",
        "* Квартиры на первом и последнем этажах статистически значимо дешевле квартир на других этажах\n",
        "\n"
      ]
    },
    {
      "cell_type": "markdown",
      "metadata": {
        "id": "_rbLkArWo-G2"
      },
      "source": [
        "Рассмотрим цену квадратного метра в наиболее популярных городах и населенные пункты, где квадратный метр дороже или дешевле всего."
      ]
    },
    {
      "cell_type": "code",
      "execution_count": null,
      "metadata": {
        "colab": {
          "base_uri": "https://localhost:8080/"
        },
        "id": "Qox1kReBrpEb",
        "outputId": "e0fee016-e99f-4b64-bea8-4935881eb887",
        "trusted": true
      },
      "outputs": [
        {
          "output_type": "stream",
          "name": "stdout",
          "text": [
            "                       median       count\n",
            "                  one_m_price one_m_price\n",
            "place                                    \n",
            "Агалатово        75709.779180           3\n",
            "Александровская  70262.807084           2\n",
            "Аннино           64103.084416          14\n",
            "Барышево         31250.000000           1\n",
            "Батово           31253.755558           6\n"
          ]
        }
      ],
      "source": [
        "#создадим новую таблицу, в которой рассчитаем медианную цену квадратного метра \n",
        "#и число объявлений\n",
        "#для каждого населенного пункта\n",
        "price_per_m = data.pivot_table(index='place', values='one_m_price', aggfunc=['median', 'count'])\n",
        "print(price_per_m.head())"
      ]
    },
    {
      "cell_type": "code",
      "execution_count": null,
      "metadata": {
        "colab": {
          "base_uri": "https://localhost:8080/"
        },
        "id": "FtPc7ErasADT",
        "outputId": "8dc749e5-ffd7-4768-c05e-64379542e0c7",
        "trusted": true
      },
      "outputs": [
        {
          "output_type": "stream",
          "name": "stdout",
          "text": [
            "Места с самым дорогим квадратным метром\n",
            "place\n",
            "Репино             127678.571429\n",
            "Бор                105539.261570\n",
            "Санкт-Петербург    104444.444444\n",
            "Зеленогорск        100000.000000\n",
            "Пушкин             100000.000000\n",
            "Name: one_m_price, dtype: float64\n"
          ]
        }
      ],
      "source": [
        "print('Места с самым дорогим квадратным метром')\n",
        "print(price_per_m['median']['one_m_price'].sort_values(ascending=False).head())"
      ]
    },
    {
      "cell_type": "code",
      "execution_count": null,
      "metadata": {
        "colab": {
          "base_uri": "https://localhost:8080/"
        },
        "id": "6teP35cBsjkL",
        "outputId": "6bb71f27-12b3-4952-ff0d-101578bb262b",
        "trusted": true
      },
      "outputs": [
        {
          "output_type": "stream",
          "name": "stdout",
          "text": [
            "Места с самым дешевым квадратным метром\n",
            "place\n",
            "Совхозный       12555.555556\n",
            "Ефимовский      12686.567164\n",
            "Житково         14956.275202\n",
            "Почап           16037.735849\n",
            "Бокситогорск    16112.903226\n",
            "Name: one_m_price, dtype: float64\n"
          ]
        }
      ],
      "source": [
        "print('Места с самым дешевым квадратным метром')\n",
        "print(price_per_m['median']['one_m_price'].sort_values().head())"
      ]
    },
    {
      "cell_type": "code",
      "execution_count": null,
      "metadata": {
        "colab": {
          "base_uri": "https://localhost:8080/"
        },
        "id": "cAC81C_Xsu_z",
        "outputId": "aafaf76e-cbfd-495a-970b-179a4a5c641b",
        "trusted": true
      },
      "outputs": [
        {
          "output_type": "stream",
          "name": "stdout",
          "text": [
            "Цена м2 в местах с наибольшим числом объявлений\n",
            "                   one_m_price\n",
            "place                         \n",
            "Санкт-Петербург  104444.444444\n",
            "Мурино            84922.646605\n",
            "Шушары            77223.320158\n",
            "Кудрово           95588.235294\n",
            "Всеволожск        65789.473684\n",
            "Пушкин           100000.000000\n",
            "Колпино           74723.748474\n",
            "Гатчина           67860.569236\n",
            "Парголово         92261.904762\n",
            "Выборг            58407.079646\n"
          ]
        }
      ],
      "source": [
        "print('Цена м2 в местах с наибольшим числом объявлений')\n",
        "print(price_per_m.sort_values(by=('count', 'one_m_price'), ascending=False)['median'].head(10))"
      ]
    },
    {
      "cell_type": "code",
      "execution_count": null,
      "metadata": {
        "trusted": true,
        "colab": {
          "base_uri": "https://localhost:8080/",
          "height": 394
        },
        "id": "1xvQdhCNX5vi",
        "outputId": "4f172c96-3b24-41cc-9418-3ee111d2c9ba"
      },
      "outputs": [
        {
          "output_type": "execute_result",
          "data": {
            "text/plain": [
              "                   balcony  last_price\n",
              "locality_name                         \n",
              "Санкт-Петербург      14334   5550000.0\n",
              "посёлок Мурино         422   3550000.0\n",
              "посёлок Шушары         398   3970000.0\n",
              "Всеволожск             357   3450000.0\n",
              "Пушкин                 338   5200000.0\n",
              "Колпино                322   3600000.0\n",
              "Гатчина                294   3100000.0\n",
              "посёлок Парголово      289   4130000.0\n",
              "деревня Кудрово        231   3865000.0\n",
              "Выборг                 201   2900000.0"
            ],
            "text/html": [
              "\n",
              "  <div id=\"df-ef760486-c8ec-4ead-b920-1b2640fcefa7\">\n",
              "    <div class=\"colab-df-container\">\n",
              "      <div>\n",
              "<style scoped>\n",
              "    .dataframe tbody tr th:only-of-type {\n",
              "        vertical-align: middle;\n",
              "    }\n",
              "\n",
              "    .dataframe tbody tr th {\n",
              "        vertical-align: top;\n",
              "    }\n",
              "\n",
              "    .dataframe thead th {\n",
              "        text-align: right;\n",
              "    }\n",
              "</style>\n",
              "<table border=\"1\" class=\"dataframe\">\n",
              "  <thead>\n",
              "    <tr style=\"text-align: right;\">\n",
              "      <th></th>\n",
              "      <th>balcony</th>\n",
              "      <th>last_price</th>\n",
              "    </tr>\n",
              "    <tr>\n",
              "      <th>locality_name</th>\n",
              "      <th></th>\n",
              "      <th></th>\n",
              "    </tr>\n",
              "  </thead>\n",
              "  <tbody>\n",
              "    <tr>\n",
              "      <th>Санкт-Петербург</th>\n",
              "      <td>14334</td>\n",
              "      <td>5550000.0</td>\n",
              "    </tr>\n",
              "    <tr>\n",
              "      <th>посёлок Мурино</th>\n",
              "      <td>422</td>\n",
              "      <td>3550000.0</td>\n",
              "    </tr>\n",
              "    <tr>\n",
              "      <th>посёлок Шушары</th>\n",
              "      <td>398</td>\n",
              "      <td>3970000.0</td>\n",
              "    </tr>\n",
              "    <tr>\n",
              "      <th>Всеволожск</th>\n",
              "      <td>357</td>\n",
              "      <td>3450000.0</td>\n",
              "    </tr>\n",
              "    <tr>\n",
              "      <th>Пушкин</th>\n",
              "      <td>338</td>\n",
              "      <td>5200000.0</td>\n",
              "    </tr>\n",
              "    <tr>\n",
              "      <th>Колпино</th>\n",
              "      <td>322</td>\n",
              "      <td>3600000.0</td>\n",
              "    </tr>\n",
              "    <tr>\n",
              "      <th>Гатчина</th>\n",
              "      <td>294</td>\n",
              "      <td>3100000.0</td>\n",
              "    </tr>\n",
              "    <tr>\n",
              "      <th>посёлок Парголово</th>\n",
              "      <td>289</td>\n",
              "      <td>4130000.0</td>\n",
              "    </tr>\n",
              "    <tr>\n",
              "      <th>деревня Кудрово</th>\n",
              "      <td>231</td>\n",
              "      <td>3865000.0</td>\n",
              "    </tr>\n",
              "    <tr>\n",
              "      <th>Выборг</th>\n",
              "      <td>201</td>\n",
              "      <td>2900000.0</td>\n",
              "    </tr>\n",
              "  </tbody>\n",
              "</table>\n",
              "</div>\n",
              "      <button class=\"colab-df-convert\" onclick=\"convertToInteractive('df-ef760486-c8ec-4ead-b920-1b2640fcefa7')\"\n",
              "              title=\"Convert this dataframe to an interactive table.\"\n",
              "              style=\"display:none;\">\n",
              "        \n",
              "  <svg xmlns=\"http://www.w3.org/2000/svg\" height=\"24px\"viewBox=\"0 0 24 24\"\n",
              "       width=\"24px\">\n",
              "    <path d=\"M0 0h24v24H0V0z\" fill=\"none\"/>\n",
              "    <path d=\"M18.56 5.44l.94 2.06.94-2.06 2.06-.94-2.06-.94-.94-2.06-.94 2.06-2.06.94zm-11 1L8.5 8.5l.94-2.06 2.06-.94-2.06-.94L8.5 2.5l-.94 2.06-2.06.94zm10 10l.94 2.06.94-2.06 2.06-.94-2.06-.94-.94-2.06-.94 2.06-2.06.94z\"/><path d=\"M17.41 7.96l-1.37-1.37c-.4-.4-.92-.59-1.43-.59-.52 0-1.04.2-1.43.59L10.3 9.45l-7.72 7.72c-.78.78-.78 2.05 0 2.83L4 21.41c.39.39.9.59 1.41.59.51 0 1.02-.2 1.41-.59l7.78-7.78 2.81-2.81c.8-.78.8-2.07 0-2.86zM5.41 20L4 18.59l7.72-7.72 1.47 1.35L5.41 20z\"/>\n",
              "  </svg>\n",
              "      </button>\n",
              "      \n",
              "  <style>\n",
              "    .colab-df-container {\n",
              "      display:flex;\n",
              "      flex-wrap:wrap;\n",
              "      gap: 12px;\n",
              "    }\n",
              "\n",
              "    .colab-df-convert {\n",
              "      background-color: #E8F0FE;\n",
              "      border: none;\n",
              "      border-radius: 50%;\n",
              "      cursor: pointer;\n",
              "      display: none;\n",
              "      fill: #1967D2;\n",
              "      height: 32px;\n",
              "      padding: 0 0 0 0;\n",
              "      width: 32px;\n",
              "    }\n",
              "\n",
              "    .colab-df-convert:hover {\n",
              "      background-color: #E2EBFA;\n",
              "      box-shadow: 0px 1px 2px rgba(60, 64, 67, 0.3), 0px 1px 3px 1px rgba(60, 64, 67, 0.15);\n",
              "      fill: #174EA6;\n",
              "    }\n",
              "\n",
              "    [theme=dark] .colab-df-convert {\n",
              "      background-color: #3B4455;\n",
              "      fill: #D2E3FC;\n",
              "    }\n",
              "\n",
              "    [theme=dark] .colab-df-convert:hover {\n",
              "      background-color: #434B5C;\n",
              "      box-shadow: 0px 1px 3px 1px rgba(0, 0, 0, 0.15);\n",
              "      filter: drop-shadow(0px 1px 2px rgba(0, 0, 0, 0.3));\n",
              "      fill: #FFFFFF;\n",
              "    }\n",
              "  </style>\n",
              "\n",
              "      <script>\n",
              "        const buttonEl =\n",
              "          document.querySelector('#df-ef760486-c8ec-4ead-b920-1b2640fcefa7 button.colab-df-convert');\n",
              "        buttonEl.style.display =\n",
              "          google.colab.kernel.accessAllowed ? 'block' : 'none';\n",
              "\n",
              "        async function convertToInteractive(key) {\n",
              "          const element = document.querySelector('#df-ef760486-c8ec-4ead-b920-1b2640fcefa7');\n",
              "          const dataTable =\n",
              "            await google.colab.kernel.invokeFunction('convertToInteractive',\n",
              "                                                     [key], {});\n",
              "          if (!dataTable) return;\n",
              "\n",
              "          const docLinkHtml = 'Like what you see? Visit the ' +\n",
              "            '<a target=\"_blank\" href=https://colab.research.google.com/notebooks/data_table.ipynb>data table notebook</a>'\n",
              "            + ' to learn more about interactive tables.';\n",
              "          element.innerHTML = '';\n",
              "          dataTable['output_type'] = 'display_data';\n",
              "          await google.colab.output.renderOutput(dataTable, element);\n",
              "          const docLink = document.createElement('div');\n",
              "          docLink.innerHTML = docLinkHtml;\n",
              "          element.appendChild(docLink);\n",
              "        }\n",
              "      </script>\n",
              "    </div>\n",
              "  </div>\n",
              "  "
            ]
          },
          "metadata": {},
          "execution_count": 96
        }
      ],
      "source": [
        "data.groupby('locality_name').agg({'balcony':'count', 'last_price':'median'}) \\\n",
        "    .sort_values(by = 'balcony', ascending = False) \\\n",
        "    .head(10)"
      ]
    },
    {
      "cell_type": "markdown",
      "metadata": {
        "id": "GtYpwK2zwn6x"
      },
      "source": [
        "Рассчитаем, как меняется стоимость квартир в Петербурге в зависимости от расстояния до центра города."
      ]
    },
    {
      "cell_type": "code",
      "execution_count": null,
      "metadata": {
        "colab": {
          "base_uri": "https://localhost:8080/",
          "height": 525
        },
        "id": "Tsr5OoCQw05q",
        "outputId": "1038333a-6ca8-4bb6-b8f4-d3a76b84fa7f",
        "scrolled": false,
        "trusted": true
      },
      "outputs": [
        {
          "output_type": "display_data",
          "data": {
            "text/plain": [
              "<Figure size 504x504 with 1 Axes>"
            ],
            "image/png": "[encoded data removed]"
          },
          "metadata": {}
        }
      ],
      "source": [
        "#создадим новый датафрейм \n",
        "spb_dist = data.loc[data['place']=='Санкт-Петербург'].loc[data['cent_dist']>=0].pivot_table(index='cent_dist', values='one_m_price', aggfunc='median')\n",
        "spb_dist.reset_index(inplace=True)\n",
        "spb_dist.columns=['km','price']\n",
        "sns.catplot(x='km', y='price', data=spb_dist, kind='bar', height=7)\n",
        "plt.title('Зависимость медианной цены 1 квадратного метра от удаленности от центра города, км');"
      ]
    },
    {
      "cell_type": "code",
      "execution_count": null,
      "metadata": {
        "colab": {
          "base_uri": "https://localhost:8080/"
        },
        "id": "ZJy3eWFV0AJ7",
        "outputId": "43bf1136-40c0-49a3-bb2f-f0d599fdf3e0",
        "trusted": true
      },
      "outputs": [
        {
          "output_type": "stream",
          "name": "stdout",
          "text": [
            "Корреляция между ценой квартиры и параметром km присутствует.\n",
            "p-value равно 9.3e-07, коэффициент корреляции -0.76\n"
          ]
        }
      ],
      "source": [
        "test = pearsonr(spb_dist.loc[~spb_dist['km'].isna()]['km'],spb_dist.loc[~spb_dist['km'].isna()]['price'])\n",
        "if test[1]<0.05:\n",
        "    print('Корреляция между ценой квартиры и параметром', 'km', 'присутствует.')\n",
        "    print('p-value равно {0:.2}, коэффициент корреляции {1:.2}'.format(test[1], test[0]))\n",
        "else:\n",
        "    print('Корреляции между параметром', 'km', 'и ценой квартиры не выявлено.')\n",
        "    print('p-value равно {:.2}'.format(test[1]))"
      ]
    },
    {
      "cell_type": "markdown",
      "metadata": {
        "id": "SVKSKKxtz5Eo"
      },
      "source": [
        "Видим, что, несмотря на выброс в районе 20 км, наблюдается сильная корреляция - чем дальше квартиры от центра, тем они дешевле. "
      ]
    },
    {
      "cell_type": "markdown",
      "metadata": {
        "id": "Q4D06H8Vs8uG"
      },
      "source": [
        "### Общий вывод"
      ]
    },
    {
      "cell_type": "markdown",
      "metadata": {
        "id": "c7Uairabs8uH"
      },
      "source": [
        "В ходе работы над проектом была проведена предобработка данных: определены пропущенные значения, частично они были заполнены по данным тех же населенных пунктов. В названиях населенных пунктов предварительно устранены неявные дубликаты. Изменены неверно введенные данные, аномалии в данных были отброшены и не использовались для дальнейшего анализа. \n",
        "\n",
        "Затем были рассчитаны параметры, изначально напрямую не представленные в данных, но необходимые для анализа, такие как цена квадратного метра, месяц и год публикации объявления.\n",
        "\n",
        "Далее построены гистограммы для числовых параметров и отмечены особенности в данных: \n",
        "\n",
        "*   Данные не подвержены нормальному распределению и имеют \"хвост\" из дорогих больших квартир. \n",
        "*   В данных выделяются пики, характерные для квартир с разным числом комнат.\n",
        "* В летние месяцы публикуется меньше объявлений о продаже квартир, чем в зимние.\n",
        "* В среднем объявление находилось на сайте 180 дней, но медианное значение того же параметра - 98. Это говорит о том, что есть объявления, которые находятся на сайте очень длительное время (несколько лет) и неадекватно завышают среднее значение. Можно выделить группу \"быстрых\" (до 30 дней) и \"долгих\" (больше 200 дней) объявлений. Причину попадания каждого конкретного объявления в одну из групп не удалось - необходимы дальнейшие исследования.\n",
        "\n",
        "\n",
        "Далее исследовалось влияние различных факторов на стоимость квартиры: \n",
        "\n",
        "*   Площадь квартиры и число комнат ожидаемо влияют на стоимость квартиры, причем наибольшее влияние оказывает общая площадь\n",
        "* Квартиры на первом и последнем этажах статистически значимо дешевле квартир на других этажах\n",
        "*   Несмотря на то, что есть разница между количеством объявлений, публикуемых в разные месяцы, стоимость квартиры от числа предложений на рынке не зависит\n",
        "\n",
        "Были рассчитаны медианные цены квадратного метра в каждом населенном пункте. Наиболее популярным городом ожидаемо стал Санкт-Петербург (102598 за м2), а самым дорогим - поселок Репино в Курортном районе (127678 за м2).\n",
        "\n",
        "Далее были рассмотрены квартиры только в Санкт-Петербурге и было статистически подстверждено утверждение о том, что квартиры дальше от центра города дешевле.\n",
        "\n",
        "\n"
      ]
    }
  ],
  "metadata": {
    "ExecuteTimeLog": [
      {
        "duration": 1336,
        "start_time": "2023-01-19T21:53:09.072Z"
      },
      {
        "duration": 93,
        "start_time": "2023-01-19T21:53:10.410Z"
      },
      {
        "duration": 19,
        "start_time": "2023-01-19T21:53:10.505Z"
      },
      {
        "duration": 23,
        "start_time": "2023-01-19T21:53:10.526Z"
      },
      {
        "duration": 2225,
        "start_time": "2023-01-19T21:53:10.552Z"
      },
      {
        "duration": 26,
        "start_time": "2023-01-19T21:53:12.779Z"
      },
      {
        "duration": 6,
        "start_time": "2023-01-19T21:53:12.807Z"
      },
      {
        "duration": 20,
        "start_time": "2023-01-19T21:53:12.815Z"
      },
      {
        "duration": 7,
        "start_time": "2023-01-19T21:53:12.838Z"
      },
      {
        "duration": 12,
        "start_time": "2023-01-19T21:53:12.847Z"
      },
      {
        "duration": 11151,
        "start_time": "2023-01-19T21:53:12.861Z"
      },
      {
        "duration": 9,
        "start_time": "2023-01-19T21:53:24.014Z"
      },
      {
        "duration": 39,
        "start_time": "2023-01-19T21:53:24.025Z"
      },
      {
        "duration": 7019,
        "start_time": "2023-01-19T21:53:24.069Z"
      },
      {
        "duration": 25,
        "start_time": "2023-01-19T21:53:31.093Z"
      },
      {
        "duration": 5,
        "start_time": "2023-01-19T21:53:31.120Z"
      },
      {
        "duration": 33,
        "start_time": "2023-01-19T21:53:31.127Z"
      },
      {
        "duration": 42,
        "start_time": "2023-01-19T21:53:31.162Z"
      },
      {
        "duration": 5,
        "start_time": "2023-01-19T21:53:31.206Z"
      },
      {
        "duration": 31,
        "start_time": "2023-01-19T21:53:31.213Z"
      },
      {
        "duration": 15,
        "start_time": "2023-01-19T21:53:31.246Z"
      },
      {
        "duration": 12,
        "start_time": "2023-01-19T21:53:31.263Z"
      },
      {
        "duration": 39,
        "start_time": "2023-01-19T21:53:31.278Z"
      },
      {
        "duration": 4589,
        "start_time": "2023-01-19T21:53:31.319Z"
      },
      {
        "duration": 8,
        "start_time": "2023-01-19T21:53:35.911Z"
      },
      {
        "duration": 31,
        "start_time": "2023-01-19T21:53:35.921Z"
      },
      {
        "duration": 270,
        "start_time": "2023-01-19T21:53:35.954Z"
      },
      {
        "duration": 25,
        "start_time": "2023-01-19T21:53:36.227Z"
      },
      {
        "duration": 190,
        "start_time": "2023-01-19T21:53:36.255Z"
      },
      {
        "duration": 8,
        "start_time": "2023-01-19T21:53:36.447Z"
      },
      {
        "duration": 11,
        "start_time": "2023-01-19T21:53:36.457Z"
      },
      {
        "duration": 372,
        "start_time": "2023-01-19T21:53:36.470Z"
      },
      {
        "duration": 13,
        "start_time": "2023-01-19T21:53:36.844Z"
      },
      {
        "duration": 8,
        "start_time": "2023-01-19T21:53:36.859Z"
      },
      {
        "duration": 28,
        "start_time": "2023-01-19T21:53:36.870Z"
      },
      {
        "duration": 340,
        "start_time": "2023-01-19T21:53:36.901Z"
      },
      {
        "duration": 6,
        "start_time": "2023-01-19T21:53:37.243Z"
      },
      {
        "duration": 31,
        "start_time": "2023-01-19T21:53:37.250Z"
      },
      {
        "duration": 8,
        "start_time": "2023-01-19T21:53:37.295Z"
      },
      {
        "duration": 331,
        "start_time": "2023-01-19T21:53:37.305Z"
      },
      {
        "duration": 1916,
        "start_time": "2023-01-19T21:53:37.643Z"
      },
      {
        "duration": 10,
        "start_time": "2023-01-19T21:53:39.562Z"
      },
      {
        "duration": 28,
        "start_time": "2023-01-19T21:53:39.574Z"
      },
      {
        "duration": 4,
        "start_time": "2023-01-19T21:53:39.605Z"
      },
      {
        "duration": 173,
        "start_time": "2023-01-19T21:53:39.611Z"
      },
      {
        "duration": 26,
        "start_time": "2023-01-19T21:53:39.795Z"
      },
      {
        "duration": 12,
        "start_time": "2023-01-19T21:53:39.823Z"
      },
      {
        "duration": 16,
        "start_time": "2023-01-19T21:53:39.837Z"
      },
      {
        "duration": 281,
        "start_time": "2023-01-19T21:53:39.856Z"
      },
      {
        "duration": 59,
        "start_time": "2023-01-19T21:53:40.139Z"
      },
      {
        "duration": 416,
        "start_time": "2023-01-19T21:53:40.200Z"
      },
      {
        "duration": 1800,
        "start_time": "2023-01-19T21:53:40.618Z"
      },
      {
        "duration": 10,
        "start_time": "2023-01-19T21:53:42.420Z"
      },
      {
        "duration": 16,
        "start_time": "2023-01-19T21:53:42.433Z"
      },
      {
        "duration": 29,
        "start_time": "2023-01-19T21:53:42.450Z"
      },
      {
        "duration": 247,
        "start_time": "2023-01-19T21:53:42.481Z"
      },
      {
        "duration": 18,
        "start_time": "2023-01-19T21:53:42.730Z"
      },
      {
        "duration": 43,
        "start_time": "2023-01-19T21:53:42.750Z"
      },
      {
        "duration": 210,
        "start_time": "2023-01-19T21:53:42.795Z"
      },
      {
        "duration": 2612,
        "start_time": "2023-01-19T21:53:43.007Z"
      },
      {
        "duration": 134,
        "start_time": "2023-01-19T21:53:45.621Z"
      },
      {
        "duration": 12,
        "start_time": "2023-01-19T21:53:45.756Z"
      },
      {
        "duration": 177,
        "start_time": "2023-01-19T21:53:45.770Z"
      },
      {
        "duration": 169,
        "start_time": "2023-01-19T21:53:45.949Z"
      },
      {
        "duration": 23,
        "start_time": "2023-01-19T21:53:46.120Z"
      },
      {
        "duration": 11,
        "start_time": "2023-01-19T21:53:46.146Z"
      },
      {
        "duration": 39,
        "start_time": "2023-01-19T21:53:46.159Z"
      },
      {
        "duration": 14,
        "start_time": "2023-01-19T21:53:46.200Z"
      },
      {
        "duration": 4,
        "start_time": "2023-01-19T21:53:46.216Z"
      },
      {
        "duration": 1201,
        "start_time": "2023-01-19T21:53:46.222Z"
      },
      {
        "duration": 2588,
        "start_time": "2023-01-19T21:53:47.425Z"
      },
      {
        "duration": 239,
        "start_time": "2023-01-19T21:53:50.015Z"
      },
      {
        "duration": 647,
        "start_time": "2023-01-19T21:53:50.257Z"
      },
      {
        "duration": 189,
        "start_time": "2023-01-19T21:53:50.906Z"
      },
      {
        "duration": 32,
        "start_time": "2023-01-19T21:53:51.097Z"
      },
      {
        "duration": 10,
        "start_time": "2023-01-19T21:53:51.131Z"
      },
      {
        "duration": 34,
        "start_time": "2023-01-19T21:53:51.144Z"
      },
      {
        "duration": 19,
        "start_time": "2023-01-19T21:53:51.180Z"
      },
      {
        "duration": 547,
        "start_time": "2023-01-19T21:53:51.201Z"
      },
      {
        "duration": 7,
        "start_time": "2023-01-19T21:53:51.750Z"
      },
      {
        "duration": 16,
        "start_time": "2023-01-19T21:56:00.884Z"
      },
      {
        "duration": 10,
        "start_time": "2023-01-19T21:58:47.255Z"
      },
      {
        "duration": 18,
        "start_time": "2023-01-19T21:59:13.427Z"
      },
      {
        "duration": 393,
        "start_time": "2023-01-19T21:59:25.569Z"
      },
      {
        "duration": 765,
        "start_time": "2023-01-19T21:59:40.986Z"
      }
    ],
    "colab": {
      "provenance": [],
      "toc_visible": true
    },
    "kernelspec": {
      "display_name": "Python 3 (ipykernel)",
      "language": "python",
      "name": "python3"
    },
    "language_info": {
      "codemirror_mode": {
        "name": "ipython",
        "version": 3
      },
      "file_extension": ".py",
      "mimetype": "text/x-python",
      "name": "python",
      "nbconvert_exporter": "python",
      "pygments_lexer": "ipython3",
      "version": "3.9.5"
    },
    "toc": {
      "base_numbering": 1,
      "nav_menu": {},
      "number_sections": true,
      "sideBar": true,
      "skip_h1_title": true,
      "title_cell": "Table of Contents",
      "title_sidebar": "Contents",
      "toc_cell": false,
      "toc_position": {},
      "toc_section_display": true,
      "toc_window_display": true
    }
  },
  "nbformat": 4,
  "nbformat_minor": 0
}